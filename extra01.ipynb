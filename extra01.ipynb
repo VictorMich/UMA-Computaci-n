{
 "cells": [
  {
   "cell_type": "markdown",
   "metadata": {},
   "source": [
    "# Faltan ejercicios 2, 7, 10 y crear el README.md file.\n",
    "Dudas en el ejercicio 2.\n",
    "#### ¿Por qué el ejercicio 8 me arroja el resultado?\n",
    "Los demás comenzarlos.\n",
    "## Editar si se soluciona alguno"
   ]
  },
  {
   "cell_type": "markdown",
   "metadata": {},
   "source": [
    "# Ejercicios Extra 01\n",
    "\n",
    "Estos ejercicios tienen como finalidad reforzar lo que se ha visto hasta ahora en la clase. Toma tu tiempo para contestarlos."
   ]
  },
  {
   "cell_type": "markdown",
   "metadata": {},
   "source": [
    "1. Define la función `palindromo` que verifique si una oración o palabra es un palindromo. La función deberá regresar `True` la oración es palíndromo o `False` de lo contrario. Considera oraciones sin signos de puntuación.\n",
    "\n",
    "```python\n",
    ">>> palindromo(\"Anita lava la tina\")\n",
    "True\n",
    ">>> palindromo(\"A ti no bonita\")\n",
    "True\n",
    ">>> palindromo(\"machine learning\")\n",
    "False\n",
    ">>> palindromo(\"Tu eres\")\n",
    "False\n",
    ">>> palindromo(\"Yo soy\")\n",
    "True\n",
    "```"
   ]
  },
  {
   "cell_type": "code",
   "execution_count": 28,
   "metadata": {},
   "outputs": [
    {
     "data": {
      "text/plain": [
       "True"
      ]
     },
     "execution_count": 28,
     "metadata": {},
     "output_type": "execute_result"
    }
   ],
   "source": [
    "def palindromo(str):\n",
    "    pali_estandar=str.lower().replace(\" \",\"\")\n",
    "    if pali_estandar==pali_estandar[::-1]:\n",
    "        return True\n",
    "    else:\n",
    "        return False\n",
    "palindromo(\"Anita lava la tina\")"
   ]
  },
  {
   "cell_type": "markdown",
   "metadata": {},
   "source": [
    "2. Define la función `std` que calcule la desviación estándard de una lista. Definimos la descviación estándard como:\n",
    "\n",
    "$$\n",
    "    \\texttt{std(X)} = \\sqrt{\\frac{1}{N-1}\\sum_{n=1}^N(x_i - \\bar x)^2}\n",
    "$$\n",
    "\n",
    "Donde $\\bar x$ denota el valor promedio de la lista $X$, i.e, $\\bar x = \\frac{1}{N}\\sum_{N=1}^N x_n$\n",
    "```python\n",
    ">>> std([1, 2, 3, 4])\n",
    "1.2909944487358056\n",
    ">>> stdev([3, 1, 4, 1, 5])\n",
    "1.7888543819998317\n",
    ">>> stdev([2, 1, 1, 1, 1, 2])\n",
    "0.5163977794943222\n",
    "```"
   ]
  },
  {
   "cell_type": "code",
   "execution_count": null,
   "metadata": {},
   "outputs": [],
   "source": [
    "def std():\n",
    "    "
   ]
  },
  {
   "cell_type": "markdown",
   "metadata": {},
   "source": [
    "3. Define la función `persona` que tome el nombre, la edad, sexo y materia favorita de una persona y regrese un diccionario con llaves `\"nombre\"`, `\"edad\"`, `\"sexo\"` y `\"materia\"` y valores las asignadas por el usuario. Considera el parámetro de materia favorita como un argumento opcional cuyo valor predeterminado es `\"probabilidad\"`.\n",
    "```python\n",
    ">>> persona(\"Isaac\", 375, \"M\", \"cálculo\")\n",
    "{'nombre': 'Isaac', 'edad': 375, 'sexo': 'M', 'materia': 'cálculo'}\n",
    ">>> persona(\"Fei-Fei\", 42, \"F\", \"AI\")\n",
    "{'nombre': 'Fei-Fei', 'edad': 42, 'sexo': 'F', 'materia': 'AI'}\n",
    ">>> persona(\"Gerardo\", 24, \"M\")\n",
    "{'nombre': 'Gerardo', 'edad': 24, 'sexo': 'M', 'materia': 'probabilidad'}\n",
    "```"
   ]
  },
  {
   "cell_type": "code",
   "execution_count": 17,
   "metadata": {},
   "outputs": [
    {
     "data": {
      "text/plain": [
       "{'nombre': 'Víctor', 'edad': 19, 'sexo': 'M', 'materia': 'probabilidad'}"
      ]
     },
     "execution_count": 17,
     "metadata": {},
     "output_type": "execute_result"
    }
   ],
   "source": [
    "def persona(str1, edad, str2, str3):\n",
    "    diccionario={\"nombre\":str1,\"edad\":edad,\"sexo\":str2,\"materia\":str3}\n",
    "    return diccionario\n",
    "persona(\"Víctor\", 19, \"M\", \"probabilidad\")"
   ]
  },
  {
   "cell_type": "markdown",
   "metadata": {},
   "source": [
    "4. Define la función `factorial` que calcule el factorial de un número entero $n \\geq 0$. El factorial de un número $n \\geq 1$ se define como\n",
    "$$\n",
    "    n! = n \\times n - 1 \\times n - 2 \\times \\ldots \\times 2 \\times 1\n",
    "$$\n",
    "y $0! = 1$\n",
    "\n",
    "```python\n",
    ">>> factorial(3)\n",
    "6\n",
    ">>> factorial(6)\n",
    "720\n",
    ">>> factorial(0)\n",
    "1\n",
    "```"
   ]
  },
  {
   "cell_type": "code",
   "execution_count": 30,
   "metadata": {},
   "outputs": [
    {
     "data": {
      "text/plain": [
       "720"
      ]
     },
     "execution_count": 30,
     "metadata": {},
     "output_type": "execute_result"
    }
   ],
   "source": [
    "def factorial(n):\n",
    "    numfact2=1\n",
    "    for i in range(n):\n",
    "        numfact=n-i\n",
    "        numfact2=numfact2*numfact\n",
    "    return numfact2\n",
    "factorial(6)"
   ]
  },
  {
   "cell_type": "markdown",
   "metadata": {},
   "source": [
    "5. Define la función `fibonacci` que regrese una lista con los primeros `n` elementos de la secuencia Fibonacci. Recordemos, la secuencia fibonacci es la siguiente:\n",
    "```\n",
    "0 1 1 2 3 5 8 13 21\n",
    "```\n",
    "En general, el $n$-ésimo término de la secuencia Fibonacci es $F_1 = 0$, $F_2 = 1$ y, para cualquier $n \\geq 3$,\n",
    "\n",
    "$$\n",
    "    F_n = F_{n - 2} + F_{n - 1}\n",
    "$$\n",
    "\n",
    "```python\n",
    ">>> fibonacci(10)\n",
    "[0, 1, 1, 2, 3, 5, 8, 13, 21, 34]\n",
    ">>> fibonacci(4)\n",
    "[0, 1, 1, 2]\n",
    "```"
   ]
  },
  {
   "cell_type": "code",
   "execution_count": 41,
   "metadata": {},
   "outputs": [
    {
     "data": {
      "text/plain": [
       "[0, 1, 1, 2, 3, 5, 8, 13, 21, 34]"
      ]
     },
     "execution_count": 41,
     "metadata": {},
     "output_type": "execute_result"
    }
   ],
   "source": [
    "def fibonacci(a):\n",
    "    lista_fibonacci=[0,1]\n",
    "    for x in range(3,a+1):\n",
    "        fibonacci_n=lista_fibonacci[-1]+lista_fibonacci[-2]\n",
    "        lista_fibonacci.append(fibonacci_n)\n",
    "    return lista_fibonacci\n",
    "fibonacci(10)"
   ]
  },
  {
   "cell_type": "markdown",
   "metadata": {},
   "source": [
    "6. Escribe la función `table` que imprima una tabla aritmética de suma, resta y multiplicación. La función tomará dos parámetros un tamaño de tabla `size` y una operación a realizar (una de `\"suma\"`, `\"resta\"`, `\"mult\"`)\n",
    "\n",
    "```python\n",
    ">>> table(5, \"resta\")\n",
    "00 -1 -2 -3 -4 \n",
    "01 00 -1 -2 -3 \n",
    "02 01 00 -1 -2 \n",
    "03 02 01 00 -1 \n",
    "04 03 02 01 00 \n",
    "\n",
    ">>> table(5, \"mult\")\n",
    "01 02 03 04 05 \n",
    "02 04 06 08 10 \n",
    "03 06 09 12 15 \n",
    "04 08 12 16 20 \n",
    "05 10 15 20 25\n",
    "\n",
    ">>> table(5, \"div\")\n",
    "Operación 'div' no reconocida\n",
    "```\n"
   ]
  },
  {
   "cell_type": "code",
   "execution_count": 127,
   "metadata": {},
   "outputs": [
    {
     "name": "stdout",
     "output_type": "stream",
     "text": [
      " \n",
      "0 -1 -2 -3 -4 -5  \n",
      "1 0 -1 -2 -3 -4  \n",
      "2 1 0 -1 -2 -3  \n",
      "3 2 1 0 -1 -2  \n",
      "4 3 2 1 0 -1  \n",
      "5 4 3 2 1 0 "
     ]
    }
   ],
   "source": [
    "def table(a,str):\n",
    "    if str==\"resta\":\n",
    "        for rest in range(a+1):\n",
    "            for rest2 in range(a+1):\n",
    "                if rest2==0:\n",
    "                    print(\" \")\n",
    "                res=print(rest-rest2, end=\" \")\n",
    "        return res\n",
    "    elif str==\"div\":\n",
    "        return print(\"Operación div no reconocida.\")\n",
    "    elif str==\"mult\":\n",
    "        for mult1 in range(1,a+1):\n",
    "            for mult2 in range(1,a+1):\n",
    "                if mult2==1:\n",
    "                    print(\"\")\n",
    "                multi=print(mult1*mult2, end=\" \")\n",
    "        return multi\n",
    "    elif str==\"suma\":\n",
    "        for sumandos in range(a+1):\n",
    "            for sumandos2 in range(a+1):\n",
    "                if sumandos2==0:\n",
    "                    print(\" \")\n",
    "                sum=print(sumandos+sumandos2, end=\" \")\n",
    "        return sum\n",
    "    else:\n",
    "        return print(\"Comando no reconocido. Intentar con: suma, resta o mult.\")\n",
    "        \n",
    "        \n",
    "table(5,\"resta\")"
   ]
  },
  {
   "cell_type": "markdown",
   "metadata": {},
   "source": [
    "7. [Project Euler Problem #5](https://projecteuler.net/problem=5)\n",
    "\n",
    "2520 is the smallest number that can be divided by each of the numbers from 1 to 10 without any remainder.\n",
    "\n",
    "What is the smallest positive number that is evenly divisible by all of the numbers from 1 to 20?"
   ]
  },
  {
   "cell_type": "code",
   "execution_count": 2,
   "metadata": {},
   "outputs": [
    {
     "data": {
      "text/plain": [
       "232792560"
      ]
     },
     "execution_count": 2,
     "metadata": {},
     "output_type": "execute_result"
    }
   ],
   "source": [
    "def euler(n):\n",
    "    numero=0\n",
    "    falso=False\n",
    "    while falso==False:\n",
    "        numero+=20\n",
    "        for x in range(1,n+1):\n",
    "            if numero%x!=0:\n",
    "                break\n",
    "        else:\n",
    "            falso=True\n",
    "    return numero\n",
    "euler(20)"
   ]
  },
  {
   "cell_type": "markdown",
   "metadata": {},
   "source": [
    "8. Define la función `pascal` que cree el triangulo de pascal a $n\\geq 1$ terminos en arreglo de lista de listas. \n",
    "\n",
    "```python\n",
    ">>> pascal(3)\n",
    "[[1],\n",
    " [1, 1],\n",
    " [1, 2, 1]]\n",
    ">>> pascal(12)\n",
    "[[1],\n",
    " [1, 1],\n",
    " [1, 2, 1],\n",
    " [1, 3, 3, 1],\n",
    " [1, 4, 6, 4, 1],\n",
    " [1, 5, 10, 10, 5, 1],\n",
    " [1, 6, 15, 20, 15, 6, 1],\n",
    " [1, 7, 21, 35, 35, 21, 7, 1],\n",
    " [1, 8, 28, 56, 70, 56, 28, 8, 1],\n",
    " [1, 9, 36, 84, 126, 126, 84, 36, 9, 1],\n",
    " [1, 10, 45, 120, 210, 252, 210, 120, 45, 10, 1],\n",
    " [1, 11, 55, 165, 330, 462, 462, 330, 165, 55, 11, 1]]\n",
    "```\n"
   ]
  },
  {
   "cell_type": "code",
   "execution_count": 9,
   "metadata": {},
   "outputs": [
    {
     "name": "stdout",
     "output_type": "stream",
     "text": [
      "[1]\n",
      "[1, 1]\n",
      "[1, 2, 1]\n",
      "[1, 3, 3, 1]\n",
      "[1, 4, 6, 4, 1]\n",
      "[1, 5, 10, 10, 5, 1]\n",
      "[1, 6, 15, 20, 15, 6, 1]\n",
      "[1, 7, 21, 35, 35, 21, 7, 1]\n",
      "[1, 8, 28, 56, 70, 56, 28, 8, 1]\n",
      "[1, 9, 36, 84, 126, 126, 84, 36, 9, 1]\n",
      "[1, 10, 45, 120, 210, 252, 210, 120, 45, 10, 1]\n",
      "[1, 11, 55, 165, 330, 462, 462, 330, 165, 55, 11, 1]\n",
      "[1, 12, 66, 220, 495, 792, 924, 792, 495, 220, 66, 12, 1]\n"
     ]
    }
   ],
   "source": [
    "def pascal(n):\n",
    "    lista_pascal=[1]\n",
    "    for i in range(n):\n",
    "        print(lista_pascal)\n",
    "        pascal_nueva=[]\n",
    "        pascal_nueva.append(lista_pascal[0])\n",
    "        for i in range(len(lista_pascal)-1):\n",
    "            pascal_nueva.append(lista_pascal[i]+lista_pascal[i+1])\n",
    "        pascal_nueva.append(lista_pascal[-1])\n",
    "        lista_pascal=pascal_nueva\n",
    "    return print(pascal_nueva)\n",
    "pascal(12)"
   ]
  },
  {
   "cell_type": "markdown",
   "metadata": {},
   "source": [
    "9. Define la función `binary`  que tome un número entero `n` y regrese su representación en binario (como un str). **Nota**: NO puedes hacer uso de la función `bin` definida en Python\n",
    "\n",
    "```python\n",
    ">>> binary(10)\n",
    "'01010'\n",
    ">>> binary(2)\n",
    "'10'\n",
    ">>> binary(5)\n",
    "'0101'\n",
    "```"
   ]
  },
  {
   "cell_type": "code",
   "execution_count": 125,
   "metadata": {},
   "outputs": [
    {
     "data": {
      "text/plain": [
       "'11001'"
      ]
     },
     "execution_count": 125,
     "metadata": {},
     "output_type": "execute_result"
    }
   ],
   "source": [
    "def binary(n):\n",
    "    binario = ''\n",
    "    while n // 2 != 0:\n",
    "        binario = str(n % 2) + binario\n",
    "        n = n // 2\n",
    "    return str(n) + binario\n",
    "binary(25)"
   ]
  },
  {
   "cell_type": "markdown",
   "metadata": {},
   "source": [
    "10. Define la función `mcm` que encuentre el mínimo común múltiplo entre dos números.\n",
    "```python\n",
    ">>> mcm(3, 4)\n",
    "12\n",
    ">>> mcm(72, 50)\n",
    "1800\n",
    ">>> mcm(6, 33)\n",
    "66\n",
    "```"
   ]
  },
  {
   "cell_type": "code",
   "execution_count": 13,
   "metadata": {},
   "outputs": [
    {
     "data": {
      "text/plain": [
       "1800"
      ]
     },
     "execution_count": 13,
     "metadata": {},
     "output_type": "execute_result"
    }
   ],
   "source": [
    "def mcm(a,b):\n",
    "    if a > b:\n",
    "        mayor = a\n",
    "    elif b > a:\n",
    "        mayor = b\n",
    "    while True:\n",
    "        if mayor%a==0 and mayor%b==0:\n",
    "            mcm=mayor\n",
    "            break\n",
    "        mayor+=1\n",
    "    return mcm\n",
    "mcm(72,50)"
   ]
  },
  {
   "cell_type": "markdown",
   "metadata": {},
   "source": [
    "11. ¡Aporta alguna idea! Entra al [Issue #2](https://github.com/gerdm/python_uma/issues/2) dentro del repositorio de la clase y aporta algo de valor a la clase: ¿Algún hallazgo que hayas hecho? ¿Algo que cambiarias a las notas de clase? ¿Ejercicios que te gustarían resolver?"
   ]
  },
  {
   "cell_type": "markdown",
   "metadata": {},
   "source": [
    "12. Piensa en algún proyecto final que te gustaría realizar. ¿Qué necesitas para tu proyecto? ¿De qué trata tu proyecto?\n",
    "\n",
    "Crea un nuevo repositorio en github y crea un README.md file con las específicaciones generales de tu proyecto. Este archivo irá cambiando mientras avances en el proyecto.\n",
    "\n",
    "Un README file es un documento Markdown en dónde explicas a grandes rasgos las ideas generales de un proyecto (revisa el README file del curso y [este link](https://gist.github.com/PurpleBooth/109311bb0361f32d87a2) para una idea de como escribir uno). **Adjunta el link de tu repositorio con tu archivo markdown.**"
   ]
  },
  {
   "cell_type": "markdown",
   "metadata": {},
   "source": []
  },
  {
   "cell_type": "markdown",
   "metadata": {},
   "source": [
    "13. Estáte al tanto de todo lo que se está comentando: entra al repositorio de la clase y elige la opción *watch* (arriba a la derecha) para estar notificado de todas las preguntas que se tengan y aportaciones que se hagan."
   ]
  }
 ],
 "metadata": {
  "kernelspec": {
   "display_name": "Python 3",
   "language": "python",
   "name": "python3"
  },
  "language_info": {
   "codemirror_mode": {
    "name": "ipython",
    "version": 3
   },
   "file_extension": ".py",
   "mimetype": "text/x-python",
   "name": "python",
   "nbconvert_exporter": "python",
   "pygments_lexer": "ipython3",
   "version": "3.6.5"
  }
 },
 "nbformat": 4,
 "nbformat_minor": 2
}
