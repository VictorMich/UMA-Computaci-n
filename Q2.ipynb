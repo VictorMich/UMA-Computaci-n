{
 "cells": [
  {
   "cell_type": "markdown",
   "metadata": {},
   "source": [
    "# Quiz 2"
   ]
  },
  {
   "cell_type": "markdown",
   "metadata": {},
   "source": [
    "**1.** Escribe un programa que acepte un `str` y regrese un diccionario con el número de letras mayúsculas y mínusculas dentro del `str`. (No consideres strings con acentos)\n",
    "\n",
    "Por ejemplo\n",
    "\n",
    "```python\n",
    ">>> num_letras(\"Los Buenos\")\n",
    "{'lower': 7, 'upper': 2}\n",
    "\n",
    ">>> num_letras(\"El numero es 555445522\")\n",
    "{'lower': 9, 'upper': 1}\n",
    "```"
   ]
  },
  {
   "cell_type": "code",
   "execution_count": 110,
   "metadata": {},
   "outputs": [],
   "source": [
    "def num_letras(str):\n",
    "    diccionario={}\n",
    "    lista_min=[]\n",
    "    lista_mayus=[]\n",
    "    minus=[\"a\",\"b\",\"c\",\"d\",\"e\",\"f\",\"g\",\"h\",\"i\",\"j\",\"k\",\"l\",\"m\",\"n\",\"o\",\"p\",\"q\",\"r\",\"s\",\"t\",\"u\",\"v\",\"w\",\"x\",\"y\",\"z\"]\n",
    "    mayus=[\"A\",\"B\",\"C\",\"D\",\"E\",\"F\",\"G\",\"H\",\"I\",\"J\",\"K\",\"L\",\"M\",\"N\",\"O\",\"P\",\"Q\",\"R\",\"S\",\"T\",\"U\",\"V\",\"W\",\"X\",\"Y\",\"Z\"]\n",
    "    for x in str:\n",
    "        if x in minus:\n",
    "            lista_min.append(x)\n",
    "            minusculas=len(lista_min)\n",
    "            diccionario[\"lower\"]=minusculas\n",
    "        elif x in mayus:\n",
    "            lista_mayus.append(x)\n",
    "            mayusculas=len(lista_mayus)\n",
    "            diccionario[\"upper\"]=mayusculas\n",
    "    return diccionario"
   ]
  },
  {
   "cell_type": "code",
   "execution_count": 113,
   "metadata": {},
   "outputs": [
    {
     "data": {
      "text/plain": [
       "{'upper': 1, 'lower': 9}"
      ]
     },
     "execution_count": 113,
     "metadata": {},
     "output_type": "execute_result"
    }
   ],
   "source": [
    "num_letras(\"El numero es 3234234\")"
   ]
  },
  {
   "cell_type": "markdown",
   "metadata": {},
   "source": [
    "**2.** Define la función `solo_impares` que tome una lista de enteros y regrese la lista con solo los números impares\n",
    "```python\n",
    ">>> solo_impares([1, 5, 2, 8, 9, 10])\n",
    "[1, 5, 9]\n",
    "```"
   ]
  },
  {
   "cell_type": "code",
   "execution_count": 4,
   "metadata": {},
   "outputs": [
    {
     "data": {
      "text/plain": [
       "[1, 5, 9, 11, 13]"
      ]
     },
     "execution_count": 4,
     "metadata": {},
     "output_type": "execute_result"
    }
   ],
   "source": [
    "def solo_impares(x):\n",
    "    lista_impares=[]\n",
    "    for i in x:\n",
    "        if i % 2 != 0:\n",
    "            lista_impares.append(i)\n",
    "    return lista_impares\n",
    "solo_impares([1,5,2,8,9,10,11,12,13])"
   ]
  },
  {
   "cell_type": "markdown",
   "metadata": {},
   "source": [
    "**3.** Escribe la función `fizzbuzz` que le pida al usuario un número entero $n$. El programa debe regresar una lista del 1 al $n$ con las siguientes reglas:\n",
    "\n",
    "* `Fizz` si el número es divisible entre $3$;\n",
    "* `Buzz` si el número es divisible entre $5$;\n",
    "* `FizzBuzz` si el número es divisible entre $3$ y $5$;\n",
    "* El número si no es divisible entre $3$ o $5$.\n",
    "\n",
    "Por ejemplo, si `n=16`, `fizzbuzz(16)` regresa\n",
    "\n",
    "```python\n",
    "[1, 2, 'Fizz', 4, 'Buzz', 'Fizz', 7, 8, 'Fizz', 'Buzz', 11, 'Fizz', 13, 14, 'FizzBuzz', 16]\n",
    "```"
   ]
  },
  {
   "cell_type": "code",
   "execution_count": 38,
   "metadata": {},
   "outputs": [
    {
     "data": {
      "text/plain": [
       "[1,\n",
       " 2,\n",
       " 'Fizz',\n",
       " 4,\n",
       " 'Buzz',\n",
       " 'Fizz',\n",
       " 7,\n",
       " 8,\n",
       " 'Fizz',\n",
       " 'Buzz',\n",
       " 11,\n",
       " 'Fizz',\n",
       " 13,\n",
       " 14,\n",
       " 'FizzBuzz',\n",
       " 16]"
      ]
     },
     "execution_count": 38,
     "metadata": {},
     "output_type": "execute_result"
    }
   ],
   "source": [
    "def fizzbuzz(n):\n",
    "    lista_fizz=[]\n",
    "    for x in range(1,n+1):\n",
    "        if x%3==0 and x%5==0:\n",
    "            lista_fizz.append(\"FizzBuzz\")\n",
    "        elif x%5==0:\n",
    "            lista_fizz.append(\"Buzz\")\n",
    "        elif x%3==0:\n",
    "            lista_fizz.append(\"Fizz\")\n",
    "        else:\n",
    "            lista_fizz.append(x)\n",
    "    return lista_fizz\n",
    "fizzbuzz(16)"
   ]
  },
  {
   "cell_type": "markdown",
   "metadata": {},
   "source": [
    "**4.** Define la función `mcd(x, y)` que, que dados dos números, $x, y \\in \\mathbb{Z}^+$, calcule su máximo común divisor (MCD). Por ejemplo, $MCD(54, 24) = 6$"
   ]
  },
  {
   "cell_type": "code",
   "execution_count": 33,
   "metadata": {},
   "outputs": [
    {
     "name": "stdout",
     "output_type": "stream",
     "text": [
      "MCD = 6\n"
     ]
    }
   ],
   "source": [
    "def mcd(x,y):  \n",
    "    resto = 0\n",
    "    while(y > 0):\n",
    "        resto = y\n",
    "        y = x % y\n",
    "        x = resto\n",
    "    return print(\"MCD =\",x)\n",
    "mcd(54,24)"
   ]
  },
  {
   "cell_type": "markdown",
   "metadata": {},
   "source": [
    "**5.** (*La conjetura de Collatz*). La conjetura de Collatz nos dice lo siguiente: elige cualquier número entero $n \\geq 2$ si $n$ es par, divídelo por $2$; si $n$ es impar, multiplicalo por $3$ y súmale uno\n",
    "$$\n",
    "    C(n) = \\begin{cases}\n",
    "        n / 2 & n \\text{ es par}  \\\\\n",
    "        3n + 1 & n \\text{ es impar}\n",
    "    \\end{cases}\n",
    "$$\n",
    "Sin importar el número con el que empieces, eventualmente, $n$ terminará siendo uno.  \n",
    "Escribe la función `collatz` que regrese el número de veces que tarda un número en llegar a $1$ (el primer paso no cuenta). Por ejemplo, si $n=3$. Los pasos a seguir serían los siguientes:\n",
    "```\n",
    "3 10 5 16 8 4 2 1 \n",
    "```\n",
    "```python\n",
    ">>> collatz(3)\n",
    "7\n",
    ">>> collatz(7)\n",
    "16\n",
    ">>> collatz(2 ** 100 - 1)\n",
    "108\n",
    ">>> collatz(63728127)\n",
    "949\n",
    "```"
   ]
  },
  {
   "cell_type": "code",
   "execution_count": 2,
   "metadata": {},
   "outputs": [
    {
     "data": {
      "text/plain": [
       "16"
      ]
     },
     "execution_count": 2,
     "metadata": {},
     "output_type": "execute_result"
    }
   ],
   "source": [
    "def collatz(n):\n",
    "    pasos=0\n",
    "    if n >= 2:\n",
    "        while n != 1:\n",
    "            if n%2==0:\n",
    "                pasos=pasos+1\n",
    "                n = n/2\n",
    "            else:\n",
    "                pasos=pasos+1\n",
    "                n=3*n+1\n",
    "    return pasos\n",
    "collatz(7)"
   ]
  },
  {
   "cell_type": "code",
   "execution_count": 20,
   "metadata": {},
   "outputs": [
    {
     "name": "stdout",
     "output_type": "stream",
     "text": [
      "Enter a word: hola\n",
      "1\n"
     ]
    }
   ],
   "source": [
    "def Charater(): \n",
    "    UpperCount = 0 \n",
    "    LowerCount = 0\n",
    "    word = input('Enter a word: ')\n",
    "    for letter in word:\n",
    "        if letter == letter.upper:\n",
    "            UpperCount = UpperCount + 1\n",
    "            return UpperCount\n",
    "        else:\n",
    "            LowerCount = LowerCount + 1\n",
    "            return LowerCount\n",
    "\n",
    "print(Charater())"
   ]
  },
  {
   "cell_type": "code",
   "execution_count": null,
   "metadata": {},
   "outputs": [],
   "source": []
  }
 ],
 "metadata": {
  "kernelspec": {
   "display_name": "Python 3",
   "language": "python",
   "name": "python3"
  },
  "language_info": {
   "codemirror_mode": {
    "name": "ipython",
    "version": 3
   },
   "file_extension": ".py",
   "mimetype": "text/x-python",
   "name": "python",
   "nbconvert_exporter": "python",
   "pygments_lexer": "ipython3",
   "version": "3.6.5"
  }
 },
 "nbformat": 4,
 "nbformat_minor": 2
}
