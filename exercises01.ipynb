{
 "cells": [
  {
   "cell_type": "markdown",
   "metadata": {},
   "source": [
    "# Tarea 01\n",
    "\n",
    "Bienvenido(a) a tu primera tarea en Python (🎉). Recuerda que para la tarea no podrás usar ninguna otra herramienta más que las vistas en clase (a menos que se indique lo contrario en las instrucciones)"
   ]
  },
  {
   "cell_type": "markdown",
   "metadata": {},
   "source": [
    "**1.**  Escribe un programa que le pida al usuario un nombre y salude con: \"Hola, `nombre`\""
   ]
  },
  {
   "cell_type": "code",
   "execution_count": 14,
   "metadata": {},
   "outputs": [
    {
     "name": "stdout",
     "output_type": "stream",
     "text": [
      "¿Cómo te llamas?Víctor\n",
      "Hola, Víctor\n"
     ]
    }
   ],
   "source": [
    "nombre=input(\"¿Cómo te llamas?\")\n",
    "print(\"Hola,\", nombre)"
   ]
  },
  {
   "cell_type": "markdown",
   "metadata": {},
   "source": [
    "-------"
   ]
  },
  {
   "cell_type": "markdown",
   "metadata": {},
   "source": [
    "**2.** Escribe un programa que pida un nombre y la edad y salude a la persona con su nombre y su edad más un año:\n",
    "Hola, `nombre`. El proximo año tendrás `edad + 1`.\n",
    "    \n",
    "Por ejemplo, una persona con nombre `Michael` de edad `77`. El programa debe regresar\n",
    "\n",
    "``\n",
    "\"Hola Michael, el próximo año tendrás 78 años\"\n",
    "``"
   ]
  },
  {
   "cell_type": "code",
   "execution_count": 2,
   "metadata": {},
   "outputs": [
    {
     "name": "stdout",
     "output_type": "stream",
     "text": [
      "¿Cuál es es tu nombre? Víctor\n",
      "Cuál es tu edad? 12\n",
      "Hola Víctor , el próximo año tendrás 13 años\n"
     ]
    }
   ],
   "source": [
    "nombree=input(\"¿Cuál es es tu nombre? \")\n",
    "edad=int(input(\"Cuál es tu edad? \"))\n",
    "print(\"Hola\", nombree, \"el próximo año tendrás\", edad+1, \"años\")"
   ]
  },
  {
   "cell_type": "markdown",
   "metadata": {},
   "source": [
    "-------"
   ]
  },
  {
   "cell_type": "markdown",
   "metadata": {},
   "source": [
    "**3.** Escribe un programa que regrese la suma del número máximo y mínimo dentro de la lista `numbers`.\n",
    "```python\n",
    "numbers = [1, 4, 7, 1, 2, 9, 6]\n",
    "```"
   ]
  },
  {
   "cell_type": "code",
   "execution_count": 32,
   "metadata": {},
   "outputs": [
    {
     "data": {
      "text/plain": [
       "7"
      ]
     },
     "execution_count": 32,
     "metadata": {},
     "output_type": "execute_result"
    }
   ],
   "source": [
    "numbers = [1, 4, 7, 1, 2, 9, 6]\n",
    "numbers[0]+numbers[-1]"
   ]
  },
  {
   "cell_type": "markdown",
   "metadata": {},
   "source": [
    "-------"
   ]
  },
  {
   "cell_type": "markdown",
   "metadata": {},
   "source": [
    "**4.** ¿Cuáles son las repuestas a la siguientes expresiones? (Analiza la soluciónantes de ver el resultado en Python) \n",
    "\n",
    "Explica tu razonamiento\n",
    "\n",
    "```python\n",
    "2 ^ 3 // 4\n",
    "\n",
    "0 + 3 / 2 - 2\n",
    "\n",
    "3 ** (1 - 1)\n",
    "\n",
    "3 ** 1 - 1\n",
    "```"
   ]
  },
  {
   "cell_type": "code",
   "execution_count": 38,
   "metadata": {},
   "outputs": [],
   "source": [
    "#a) 8. Primero eleva el número 2 al cubo y después lo divide entre 4. Como es \"//\" no deja residuo.\n",
    "#b) -0.5. Primero hace la divisón con residuo (por ser sólo \"/\") y después lo suma con 0 y resta con -2.\n",
    "#c) 1. Primero resuelve lo del paréntesis y después lo eleva a su potencia (0).\n",
    "#d) 2. Al no tener paréntesis, primero resuelve la potencia y después la resta con 1."
   ]
  },
  {
   "cell_type": "markdown",
   "metadata": {},
   "source": [
    "-------"
   ]
  },
  {
   "cell_type": "markdown",
   "metadata": {},
   "source": [
    "**5.** Si el pequeño Johny quiere invertir $30\\$$ a una tasa efectiva anual del $7\\%$ por 5 meses, ¿le conviene más invertir su dinero a una tasa compuesta o simple?\n",
    "\n",
    "Argumenta tu resultado númericamente"
   ]
  },
  {
   "cell_type": "code",
   "execution_count": 3,
   "metadata": {},
   "outputs": [
    {
     "name": "stdout",
     "output_type": "stream",
     "text": [
      "El dinero del pequeño Johnny en una tasa compuesta en 5 meses sería: 30.857766997431646 mientras que con una tasa simple sería: 30.84812180811079 . A la larga ganaría más dinero con la tasa compuesta.\n"
     ]
    }
   ],
   "source": [
    "##Datos\n",
    "Capital=30\n",
    "Interés_anual=0.07\n",
    "tiempo=5\n",
    "## Obteniendo el interés mensual\n",
    "Interés_mensual=float(((1+0.07)**(1/12))-1)\n",
    "##Aplicando el Interés Simple\n",
    "IS=float(30*(1+(Interés_mensual*tiempo)))\n",
    "##Aplicando el Interés Compuesto\n",
    "IC=float(30*(1+Interés_mensual)**tiempo)\n",
    "print(\"El dinero del pequeño Johnny en una tasa compuesta en 5 meses sería:\", IC, \"mientras que con una tasa simple sería:\",IS,\". A la larga ganaría más dinero con la tasa compuesta.\")"
   ]
  },
  {
   "cell_type": "markdown",
   "metadata": {},
   "source": [
    "-------"
   ]
  },
  {
   "cell_type": "markdown",
   "metadata": {},
   "source": [
    "**6.** Aproxima la derivada de $f(x) = x^2$ al rededor de $x = 3$, con un grado de error porcentual de, al menos, $0.0001666659\\%$\n",
    "\n",
    "Recuerda:\n",
    "$$\n",
    "    \\frac{d}{dx}f(x) := \\lim_{h\\to 0}\\frac{f(x + h) - f(x)}{h}\n",
    "$$"
   ]
  },
  {
   "cell_type": "code",
   "execution_count": 129,
   "metadata": {},
   "outputs": [
    {
     "data": {
      "text/plain": [
       "(6.000001000927568, 1.6666666667219943e-05)"
      ]
     },
     "execution_count": 129,
     "metadata": {},
     "output_type": "execute_result"
    }
   ],
   "source": [
    "h=0.000001\n",
    "límite=(((3+h)**2)-(3**2))/h\n",
    "error=(((h-6)/6)*100)+100\n",
    "límite, error"
   ]
  },
  {
   "cell_type": "markdown",
   "metadata": {},
   "source": [
    "###    "
   ]
  },
  {
   "cell_type": "markdown",
   "metadata": {},
   "source": [
    "**7.** Supón que dentro que dentro de una lista mágica hay manzanas verdes (`v`) y manzanas rojas (`r`). Dicha lista se llama `manzanas` y contiene $100$ elementos. Nuestro espacio muestral es equiprobable, por lo que agarrar cualquier manzana tiene la misma probablidad.\n",
    "\n",
    "```python\n",
    "manzanas =['v', 'v', 'r', 'v', 'r', 'r', 'v', 'r', 'v', 'r', 'v', 'r', 'v',\n",
    "           'v', 'r', 'r', 'v', 'r', 'v', 'r', 'r', 'r', 'r', 'r', 'v', 'v',\n",
    "           'r', 'r', 'r', 'r', 'r', 'r', 'r', 'v', 'r', 'r', 'r', 'v', 'r',\n",
    "           'v', 'r', 'r', 'r', 'r', 'v', 'r', 'v', 'v', 'v', 'v', 'v', 'r',\n",
    "           'r', 'v', 'v', 'r', 'r', 'r', 'v', 'v', 'v', 'r', 'r', 'r', 'v',\n",
    "           'v', 'r', 'r', 'v', 'v', 'v', 'v', 'r', 'v', 'v', 'r', 'r', 'v',\n",
    "           'r', 'v', 'r', 'v', 'r', 'r', 'v', 'r', 'r', 'r', 'v', 'r', 'r',\n",
    "           'v', 'r', 'v', 'r', 'v', 'v', 'r', 'r', 'r']\n",
    "```\n",
    "\n",
    "Dada la variabilidad en el orden de los elementos, tienes que programar tu solución. (**NO** lo hagas a mano)\n",
    "\n",
    "1. ¿Cuál es la probabilidad de agarrar una manzana verde?\n",
    "2. ¿Cuál es la probabilidad de agarrar una manzana roja?\n",
    "3. ¿Cuál es la probabilidad de agarrar una manzana verde y después una roja?\n",
    "3. ¿Cuál es la probabilidad de agarrar una manzana roja y después otra roja?"
   ]
  },
  {
   "cell_type": "code",
   "execution_count": 10,
   "metadata": {},
   "outputs": [
    {
     "name": "stdout",
     "output_type": "stream",
     "text": [
      "El porcentaje de sacar una manzana verde es:  43.0 %\n",
      "El porcentaje de sacar una manzana roja es:  56.99999999999999 %\n",
      "La probabilidad de tomar una verde y después una roja es:  24.757575757575758 %\n",
      "La probabilidad de tomar una roja y después una roja es:  32.81818181818181 %\n"
     ]
    }
   ],
   "source": [
    "manzanas =['v', 'v', 'r', 'v', 'r', 'r', 'v', 'r', 'v', 'r', 'v', 'r', 'v',\n",
    "           'v', 'r', 'r', 'v', 'r', 'v', 'r', 'r', 'r', 'r', 'r', 'v', 'v',\n",
    "           'r', 'r', 'r', 'r', 'r', 'r', 'r', 'v', 'r', 'r', 'r', 'v', 'r',\n",
    "           'v', 'r', 'r', 'r', 'r', 'v', 'r', 'v', 'v', 'v', 'v', 'v', 'r',\n",
    "           'r', 'v', 'v', 'r', 'r', 'r', 'v', 'v', 'v', 'r', 'r', 'r', 'v',\n",
    "           'v', 'r', 'r', 'v', 'v', 'v', 'v', 'r', 'v', 'v', 'r', 'r', 'v',\n",
    "           'r', 'v', 'r', 'v', 'r', 'r', 'v', 'r', 'r', 'r', 'v', 'r', 'r',\n",
    "           'v', 'r', 'v', 'r', 'v', 'v', 'r', 'r', 'r']\n",
    "separador=\"\"\n",
    "manzanas2=separador.join(manzanas).replace(\"v\",\"\")\n",
    "manzanas3=separador.join(manzanas).replace(\"r\",\"\")\n",
    "Manzanas_rojas=len(manzanas2)\n",
    "Manzanas_verdes=len(manzanas3)\n",
    "print(\"El porcentaje de sacar una manzana verde es: \",(Manzanas_verdes/len(manzanas)*100),\"%\"),\n",
    "print(\"El porcentaje de sacar una manzana roja es: \",(Manzanas_rojas/len(manzanas)*100),\"%\"),\n",
    "print(\"La probabilidad de tomar una verde y después una roja es: \",((Manzanas_verdes)/len(manzanas)*(Manzanas_rojas)/(len(manzanas)-1)*100), \"%\")\n",
    "print(\"La probabilidad de tomar una roja y después una roja es: \",((Manzanas_rojas)/len(manzanas)*(Manzanas_rojas)/(len(manzanas)-1)*100), \"%\")\n",
    "\n",
    "\n"
   ]
  },
  {
   "cell_type": "markdown",
   "metadata": {},
   "source": [
    "-------"
   ]
  },
  {
   "cell_type": "markdown",
   "metadata": {},
   "source": [
    "**8.** El string `crypted` contiene un mensaje secreto de dos palabras. Elimina todos los `\"*\"`, `\"g\"` `\"v\"` y convierte el string en una lista de dos elementos con las palabras encriptadas.\n",
    "\n",
    "```python\n",
    "crypted = \"m*gevn*gsva*gjve*g-sve*gcvr*gevt*gov\"\n",
    "```\n"
   ]
  },
  {
   "cell_type": "code",
   "execution_count": 54,
   "metadata": {},
   "outputs": [
    {
     "data": {
      "text/plain": [
       "['mensaje', 'secreto']"
      ]
     },
     "execution_count": 54,
     "metadata": {},
     "output_type": "execute_result"
    }
   ],
   "source": [
    "crypted = \"m*gevn*gsva*gjve*g-sve*gcvr*gevt*gov\"\n",
    "crypted2=crypted.replace(\"*\",\"\").replace(\"g\",\"\").replace(\"v\",\"\")\n",
    "crypted2.split(\"-\")"
   ]
  },
  {
   "cell_type": "markdown",
   "metadata": {},
   "source": [
    "\n",
    "-------"
   ]
  },
  {
   "cell_type": "markdown",
   "metadata": {},
   "source": [
    "**9.** Considerando el diccionario `alumnos`, \n",
    "1. obten el color favorito de `\"José\"`\n",
    "2. obten la edad de `\"Johanna\"` y multiplicalo por dos.\n",
    "3. Obten el número de alumnos\n",
    "4. Obten el número características que tiene cualquier alumno\n",
    "\n",
    "```python\n",
    "alumnos = {\n",
    " \"José\": {\n",
    "  \"edad\": 11,\n",
    "  \"color\": \"rojo\",\n",
    "  \"carrera\": \"Administración\"\n",
    " },\n",
    " \"Charlie\": {\n",
    "  \"edad\": 33,\n",
    "  \"color\": \"Violeta\",\n",
    "  \"carrera\": \"Ingeniería\"\n",
    " },\n",
    " \"Luis\": {\n",
    "  \"edad\": 23,\n",
    "  \"color\": \"Negro\",\n",
    "  \"carrera\": \"Matemáticas\"\n",
    " },\n",
    " \"Johanna\": {\n",
    "  \"edad\": 18,\n",
    "  \"color\": \"Gris\",\n",
    "  \"carrera\": \"Finanzas\"\n",
    " }\n",
    "}\n",
    "```"
   ]
  },
  {
   "cell_type": "code",
   "execution_count": 31,
   "metadata": {},
   "outputs": [
    {
     "data": {
      "text/plain": [
       "('rojo', 36, 4, 3)"
      ]
     },
     "execution_count": 31,
     "metadata": {},
     "output_type": "execute_result"
    }
   ],
   "source": [
    "alumnos = {\n",
    " \"José\": {\n",
    "  \"edad\": 11,\n",
    "  \"color\": \"rojo\",\n",
    "  \"carrera\": \"Administración\"\n",
    " },\n",
    " \"Charlie\": {\n",
    "  \"edad\": 33,\n",
    "  \"color\": \"Violeta\",\n",
    "  \"carrera\": \"Ingeniería\"\n",
    " },\n",
    " \"Luis\": {\n",
    "  \"edad\": 23,\n",
    "  \"color\": \"Negro\",\n",
    "  \"carrera\": \"Matemáticas\"\n",
    " },\n",
    " \"Johanna\": {\n",
    "  \"edad\": 18,\n",
    "  \"color\": \"Gris\",\n",
    "  \"carrera\": \"Finanzas\"\n",
    " }\n",
    "}\n",
    "alumnos[\"José\"][\"color\"], alumnos[\"Johanna\"][\"edad\"]*2, len(alumnos), len(alumnos[\"José\"])"
   ]
  },
  {
   "cell_type": "markdown",
   "metadata": {},
   "source": [
    "\n",
    "-------"
   ]
  },
  {
   "cell_type": "markdown",
   "metadata": {},
   "source": [
    "**10.** Considerando el diccionario `people_book`,\n",
    "\n",
    "1. Encuentra todos los libros que Amy y Liam tengan en común\n",
    "2. Encuentra los libros que Amy y Noah tienen en conjunto\n",
    "3. Encuentra los libros que tenga James, pero no tengan Amy y Alexander en conjunto\n",
    "4. Encuentra los libros que solo James o Michael hayan leído, pero no el resto de los lectores\n",
    "\n",
    "```python\n",
    "people_book = {'Amy': {'A Modest Proposal',\n",
    "  'Adventures of Huckleberry Finn',\n",
    "  'Beowulf: An Anglo-Saxon Epic Poem (493)',\n",
    "  'Et dukkehjem. English',\n",
    "  'Frankenstein; Or, The Modern Prometheus',\n",
    "  'Pride and Prejudice',\n",
    "  'The Count of Monte Cristo, Illustrated',\n",
    "  'The Doom of London',\n",
    "  'The Strange Case of Dr. Jekyll and Mr. Hyde',\n",
    "  'War and Peace'},\n",
    " 'Liam': {'A Tale of Two Cities',\n",
    "  'Adventures of Huckleberry Finn',\n",
    "  'Dracula',\n",
    "  'Emma',\n",
    "  'Moby Dick; Or, The Whale',\n",
    "  'The Iliad',\n",
    "  'The Republic',\n",
    "  'The Romance of Lust: A Classic Victorian erotic novel',\n",
    "  'The Strange Case of Dr. Jekyll and Mr. Hyde',\n",
    "  'Ulysses'},\n",
    " 'Noah': {'Adventures of Huckleberry Finn',\n",
    "  'Decisive Battles of America',\n",
    "  'Et dukkehjem. English',\n",
    "  'Frankenstein; Or, The Modern Prometheus',\n",
    "  'The Adventures of Sherlock Holmes',\n",
    "  'The Adventures of Tom Sawyer',\n",
    "  'The Doom of London',\n",
    "  'The Picture of Dorian Gray',\n",
    "  'The Strange Case of Dr. Jekyll and Mr. Hyde',\n",
    "  'War and Peace'},\n",
    " 'Michael': {'A Tale of Two Cities',\n",
    "  \"Alice's Adventures in Wonderland\",\n",
    "  'Beowulf: An Anglo-Saxon Epic Poem (493)',\n",
    "  'Et dukkehjem. English',\n",
    "  'Frankenstein; Or, The Modern Prometheus',\n",
    "  'The Count of Monte Cristo, Illustrated',\n",
    "  'The Iliad',\n",
    "  'The Republic',\n",
    "  'Treasure Island',\n",
    "  'War and Peace'},\n",
    " 'Alexander': {'A Tale of Two Cities',\n",
    "  'Decisive Battles of America',\n",
    "  'Dracula',\n",
    "  \"Grimms' Fairy Tales\",\n",
    "  'The Doom of London',\n",
    "  'The Importance of Being Earnest: A Trivial Comedy for Serious People',\n",
    "  'The Romance of Lust: A Classic Victorian erotic novel',\n",
    "  'The Strange Case of Dr. Jekyll and Mr. Hyde',\n",
    "  'The Yellow Wallpaper',\n",
    "  'War and Peace'},\n",
    " 'James': {'Dracula',\n",
    "  'Et dukkehjem. English',\n",
    "  \"Grimms' Fairy Tales\",\n",
    "  'Heart of Darkness',\n",
    "  'Pride and Prejudice',\n",
    "  'The Adventures of Tom Sawyer',\n",
    "  'The Count of Monte Cristo, Illustrated',\n",
    "  'The Iliad',\n",
    "  'The Republic',\n",
    "  'The Romance of Lust: A Classic Victorian erotic novel'},\n",
    " 'Joseph': {'A Tale of Two Cities',\n",
    "  'Emma',\n",
    "  'Et dukkehjem. English',\n",
    "  'Heart of Darkness',\n",
    "  'Moby Dick; Or, The Whale',\n",
    "  'Pride and Prejudice',\n",
    "  'The Adventures of Tom Sawyer',\n",
    "  'Treasure Island',\n",
    "  'Ulysses',\n",
    "  'War and Peace'}}\n",
    "```"
   ]
  },
  {
   "cell_type": "code",
   "execution_count": 17,
   "metadata": {},
   "outputs": [
    {
     "name": "stdout",
     "output_type": "stream",
     "text": [
      "Amy y Liam en común:  {'The Strange Case of Dr. Jekyll and Mr. Hyde', 'Adventures of Huckleberry Finn'} \n",
      "Amy y Noah en conjunto:  {'Beowulf: An Anglo-Saxon Epic Poem (493)', 'The Count of Monte Cristo, Illustrated', 'Frankenstein; Or, The Modern Prometheus', 'The Adventures of Sherlock Holmes', 'A Modest Proposal', 'The Adventures of Tom Sawyer', 'The Strange Case of Dr. Jekyll and Mr. Hyde', 'The Picture of Dorian Gray', 'Decisive Battles of America', 'The Doom of London', 'War and Peace', 'Pride and Prejudice', 'Adventures of Huckleberry Finn', 'Et dukkehjem. English'} \n",
      "Libros de James pero que no tengan ni Amy ni Alexander:  {'The Republic', 'The Adventures of Tom Sawyer', 'Heart of Darkness', 'The Iliad'} \n",
      "Libros que sólo James o Michael hayan leído:  {\"Alice's Adventures in Wonderland\"}\n"
     ]
    }
   ],
   "source": [
    "people_book = {'Amy': {'A Modest Proposal',\n",
    "  'Adventures of Huckleberry Finn',\n",
    "  'Beowulf: An Anglo-Saxon Epic Poem (493)',\n",
    "  'Et dukkehjem. English',\n",
    "  'Frankenstein; Or, The Modern Prometheus',\n",
    "  'Pride and Prejudice',\n",
    "  'The Count of Monte Cristo, Illustrated',\n",
    "  'The Doom of London',\n",
    "  'The Strange Case of Dr. Jekyll and Mr. Hyde',\n",
    "  'War and Peace'},\n",
    " 'Liam': {'A Tale of Two Cities',\n",
    "  'Adventures of Huckleberry Finn',\n",
    "  'Dracula',\n",
    "  'Emma',\n",
    "  'Moby Dick; Or, The Whale',\n",
    "  'The Iliad',\n",
    "  'The Republic',\n",
    "  'The Romance of Lust: A Classic Victorian erotic novel',\n",
    "  'The Strange Case of Dr. Jekyll and Mr. Hyde',\n",
    "  'Ulysses'},\n",
    " 'Noah': {'Adventures of Huckleberry Finn',\n",
    "  'Decisive Battles of America',\n",
    "  'Et dukkehjem. English',\n",
    "  'Frankenstein; Or, The Modern Prometheus',\n",
    "  'The Adventures of Sherlock Holmes',\n",
    "  'The Adventures of Tom Sawyer',\n",
    "  'The Doom of London',\n",
    "  'The Picture of Dorian Gray',\n",
    "  'The Strange Case of Dr. Jekyll and Mr. Hyde',\n",
    "  'War and Peace'},\n",
    " 'Michael': {'A Tale of Two Cities',\n",
    "  \"Alice's Adventures in Wonderland\",\n",
    "  'Beowulf: An Anglo-Saxon Epic Poem (493)',\n",
    "  'Et dukkehjem. English',\n",
    "  'Frankenstein; Or, The Modern Prometheus',\n",
    "  'The Count of Monte Cristo, Illustrated',\n",
    "  'The Iliad',\n",
    "  'The Republic',\n",
    "  'Treasure Island',\n",
    "  'War and Peace'},\n",
    " 'Alexander': {'A Tale of Two Cities',\n",
    "  'Decisive Battles of America',\n",
    "  'Dracula',\n",
    "  \"Grimms' Fairy Tales\",\n",
    "  'The Doom of London',\n",
    "  'The Importance of Being Earnest: A Trivial Comedy for Serious People',\n",
    "  'The Romance of Lust: A Classic Victorian erotic novel',\n",
    "  'The Strange Case of Dr. Jekyll and Mr. Hyde',\n",
    "  'The Yellow Wallpaper',\n",
    "  'War and Peace'},\n",
    " 'James': {'Dracula',\n",
    "  'Et dukkehjem. English',\n",
    "  \"Grimms' Fairy Tales\",\n",
    "  'Heart of Darkness',\n",
    "  'Pride and Prejudice',\n",
    "  'The Adventures of Tom Sawyer',\n",
    "  'The Count of Monte Cristo, Illustrated',\n",
    "  'The Iliad',\n",
    "  'The Republic',\n",
    "  'The Romance of Lust: A Classic Victorian erotic novel'},\n",
    " 'Joseph': {'A Tale of Two Cities',\n",
    "  'Emma',\n",
    "  'Et dukkehjem. English',\n",
    "  'Heart of Darkness',\n",
    "  'Moby Dick; Or, The Whale',\n",
    "  'Pride and Prejudice',\n",
    "  'The Adventures of Tom Sawyer',\n",
    "  'Treasure Island',\n",
    "  'Ulysses',\n",
    "  'War and Peace'}}\n",
    "\n",
    "\n",
    "print(\"Amy y Liam en común: \", people_book[\"Amy\"]&people_book[\"Liam\"],\n",
    "      \n",
    "      \"\\nAmy y Noah en conjunto: \", people_book[\"Amy\"]|people_book[\"Noah\"], \n",
    "      \n",
    "      \"\\nLibros de James pero que no tengan ni Amy ni Alexander: \",\n",
    "      \n",
    "      people_book[\"James\"]-(people_book[\"Amy\"]|people_book[\"Alexander\"]),\n",
    "     \n",
    "     \"\\nLibros que sólo James o Michael hayan leído: \", (people_book[\"James\"]|people_book[\"Michael\"])-(people_book[\"Amy\"]|people_book[\"Alexander\"]|people_book[\"Noah\"]|people_book[\"Joseph\"]|people_book[\"Liam\"]))"
   ]
  },
  {
   "cell_type": "markdown",
   "metadata": {},
   "source": [
    "\n",
    "-------"
   ]
  },
  {
   "cell_type": "markdown",
   "metadata": {},
   "source": [
    "**11.** ¿Cuál es tu materia favorita?"
   ]
  },
  {
   "cell_type": "raw",
   "metadata": {},
   "source": [
    "Introducción a los seguros."
   ]
  },
  {
   "cell_type": "markdown",
   "metadata": {},
   "source": [
    "**12.** ¿Sobre qué te gustaría aprender más?"
   ]
  },
  {
   "cell_type": "raw",
   "metadata": {},
   "source": [
    "Como hacer problemas de matemáticas financieras en python para poder corroborar que estoy bien."
   ]
  },
  {
   "cell_type": "markdown",
   "metadata": {},
   "source": [
    "**13.** ¿Algo que agregar?"
   ]
  },
  {
   "cell_type": "raw",
   "metadata": {},
   "source": [
    "¿Algunas páginas para prácticar?"
   ]
  }
 ],
 "metadata": {
  "kernelspec": {
   "display_name": "Python 3",
   "language": "python",
   "name": "python3"
  },
  "language_info": {
   "codemirror_mode": {
    "name": "ipython",
    "version": 3
   },
   "file_extension": ".py",
   "mimetype": "text/x-python",
   "name": "python",
   "nbconvert_exporter": "python",
   "pygments_lexer": "ipython3",
   "version": "3.6.5"
  }
 },
 "nbformat": 4,
 "nbformat_minor": 2
}
