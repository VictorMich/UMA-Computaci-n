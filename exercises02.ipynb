{
 "cells": [
  {
   "cell_type": "markdown",
   "metadata": {},
   "source": [
    "# HM02"
   ]
  },
  {
   "cell_type": "markdown",
   "metadata": {},
   "source": [
    "1. Escribe un programa que mencione cómo se encuentra el clima. El Usuario deberá ingresar la temperatura actual:\n",
    "    * Si `temperatura` es mayor o igual a 35, el programa deberá imprimir `\"Hace mucho calor\"`.\n",
    "    * Si `temperatura` es menor a -15, el programa deberá imprimir `\"Hace mucho frío\"`\n",
    "    * Si `temperatura` es mayor a 25 y menor a 35, el programa deberá imprimir `\"Hace calor\"` \n",
    "    * Si `temperatura` es mayor o igual a -15 y menor a 12, el programa deberá imprimir `\"Hace frío\"`\n",
    "    * Si `temperatura` se encuentra entre 12 y 25 (inclusivo), el programa deberá imprimir `\"El clima es templado\"`\n",
    " "
   ]
  },
  {
   "cell_type": "code",
   "execution_count": 3,
   "metadata": {},
   "outputs": [
    {
     "name": "stdout",
     "output_type": "stream",
     "text": [
      "¿Cuál es la temperatura actual?: 3\n",
      "Hace frío.\n"
     ]
    }
   ],
   "source": [
    "temperatura=int(input(\"¿Cuál es la temperatura actual?: \"))\n",
    "\n",
    "if temperatura >=35:\n",
    "    print(\"Hace mucho calor.\")\n",
    "elif temperatura <= -15:\n",
    "    print(\"Hace mucho frío.\")\n",
    "elif 25<temperatura<35:\n",
    "    print(\"Hace calor.\")\n",
    "elif -15<=temperatura<12:\n",
    "    print(\"Hace frío.\")\n",
    "elif 12<=temperatura<=25:\n",
    "    print(\"El clima es templado.\")"
   ]
  },
  {
   "cell_type": "markdown",
   "metadata": {},
   "source": [
    "2. Usuario - Contraseña\n",
    "\n",
    "**2.1**  \n",
    "Consierando el diccionario `user_pass`, crea un programa que pida un usuario y valide si este se encuentra dentro del diccionario. Si el usuario se encuentra dentro de `user_pass`, el programa deberá imprimir `\"usuario registrado\"`; de otra manera, el programa deberá imprimir `\"usuario no registrado\"`. **nota: los programas de usuario-contraseña son más complicados**\n",
    "```python\n",
    "user_pass = {'usr503': '2vu2bo',\n",
    " 'usr085': 'geeaa',\n",
    " 'usr406': 'xqzbiy',\n",
    " 'usr182': 'jbngo0',\n",
    " 'usr168': 'qih6e',\n",
    " 'usr900': '6ynym',\n",
    " 'usr542': '7p6mnd',\n",
    " 'usr847': 'ruqq6y',\n",
    " 'usr629': '9qs9g5',\n",
    " 'usr418': 'f15lg'}\n",
    "```\n",
    "Por ejemplo:\n",
    "```\n",
    "Ingresa tu usuario: usr085\n",
    "Usuario Registrado\n",
    "```"
   ]
  },
  {
   "cell_type": "code",
   "execution_count": 10,
   "metadata": {},
   "outputs": [
    {
     "name": "stdout",
     "output_type": "stream",
     "text": [
      "Ingresa tu usuario: usr085\n",
      "Usuario registrado.\n"
     ]
    }
   ],
   "source": [
    "user_pass = {'usr503': '2vu2bo',\n",
    " 'usr085': 'geeaa',\n",
    " 'usr406': 'xqzbiy',\n",
    " 'usr182': 'jbngo0',\n",
    " 'usr168': 'qih6e',\n",
    " 'usr900': '6ynym',\n",
    " 'usr542': '7p6mnd',\n",
    " 'usr847': 'ruqq6y',\n",
    " 'usr629': '9qs9g5',\n",
    " 'usr418': 'f15lg'}\n",
    "usuario=input(\"Ingresa tu usuario: \")\n",
    "if usuario in user_pass:\n",
    "    print(\"Usuario registrado.\")\n",
    "else:\n",
    "    print(\"Usuario no registrado.\")"
   ]
  },
  {
   "cell_type": "markdown",
   "metadata": {},
   "source": [
    "**2.2**  \n",
    "Modifica el programa anterior: si el usuario **no** ha sido registrado, el programa deberá preguntarle al usuario si se desea registrar, si el usuario ingresa `\"s\"`, el programa deberá preguntarle al usuario una contraseña y agregarlo a `user_pass`; si el usuario ingresa `\"n\"` el programa deberá imprimir `\"El usuario no fue registrado\"`; si el usuario ingresa cualquier otra secuencia, el programa deberá imprimir `\"Opción no valida. Saliendo del programa\"`  \n",
    "Por ejemplo:\n",
    "```\n",
    "Ingresa tu usuario: usr1643\n",
    "Usuario no registrado. ¿Deseas inscribirte (s/n)? n\n",
    "Saliendo del programa...\n",
    "```\n",
    "```\n",
    "Ingresa tu usuario: usr1643\n",
    "Usuario no registrado. ¿Deseas inscribirte (s/n)? y\n",
    "Opción no valida. Saliendo del programa\n",
    "```\n",
    "```\n",
    "Ingresa tu usuario: usr1643\n",
    "Usuario no registrado. ¿Deseas inscribirte (s/n)? s\n",
    "Ingresa tu contraseña: grapple981\n",
    "```\n",
    "Y el diccionario se vería modificado de la siguiente manera\n",
    "```python\n",
    "{'usr503': '2vu2bo',\n",
    "     ...\n",
    " 'usr418': 'f15lg',\n",
    " 'usr1643': 'grapple981'}\n",
    "```"
   ]
  },
  {
   "cell_type": "code",
   "execution_count": 1,
   "metadata": {},
   "outputs": [
    {
     "name": "stdout",
     "output_type": "stream",
     "text": [
      "Ingresa tu usuario: memo\n",
      "Usuario no registrado.\n",
      "¿Desea registrarlo?(s/n): s\n",
      "Introduzca su contraseña: memo\n",
      "{'usr503': '2vu2bo', 'usr085': 'geeaa', 'usr406': 'xqzbiy', 'usr182': 'jbngo0', 'usr168': 'qih6e', 'usr900': '6ynym', 'usr542': '7p6mnd', 'usr847': 'ruqq6y', 'usr629': '9qs9g5', 'usr418': 'f15lg', 'memo': 'memo'}\n"
     ]
    }
   ],
   "source": [
    "user_pass = {'usr503': '2vu2bo',\n",
    " 'usr085': 'geeaa',\n",
    " 'usr406': 'xqzbiy',\n",
    " 'usr182': 'jbngo0',\n",
    " 'usr168': 'qih6e',\n",
    " 'usr900': '6ynym',\n",
    " 'usr542': '7p6mnd',\n",
    " 'usr847': 'ruqq6y',\n",
    " 'usr629': '9qs9g5',\n",
    " 'usr418': 'f15lg'}\n",
    "\n",
    "usuario=input(\"Ingresa tu usuario: \")\n",
    "if usuario in user_pass:\n",
    "    usuario1=print(\"Usuario registrado.\")  \n",
    "else:\n",
    "    print(\"Usuario no registrado.\")\n",
    "    registro=input(\"¿Desea registrarlo?(s/n): \")\n",
    "    if registro==\"s\":\n",
    "        contra=input(\"Introduzca su contraseña: \")\n",
    "        user_pass[usuario]=contra\n",
    "        print(user_pass)\n",
    "    else:\n",
    "        if registro==\"n\":\n",
    "            print(\"Saliendo del programa...\")\n",
    "        else:\n",
    "            print(\"Instrucción inválida.\")\n",
    "        "
   ]
  },
  {
   "cell_type": "markdown",
   "metadata": {},
   "source": [
    "**2.3**.  \n",
    "Modifica el programa anterior: Si el usuario ya se ha registrado, el programa deberá pedirle al usuario que ingrese su contraseña. Si la contraseña no es la correcta, el programa deberá imprimir `\"Contraseña invalida\"`; si lo es, el programa deberá darle la bienvenida al usuario.\n",
    "```\n",
    "Ingresa tu usuario: usr085\n",
    "Ingresa tu contraseña: passw\n",
    "Contraseña invalida\n",
    "```\n",
    "```\n",
    "Ingresa tu usuario: usr085\n",
    "Ingresa tu contraseña: geeaa\n",
    "Bienvenido, usr085\n",
    "```"
   ]
  },
  {
   "cell_type": "code",
   "execution_count": 15,
   "metadata": {},
   "outputs": [
    {
     "name": "stdout",
     "output_type": "stream",
     "text": [
      "Ingresa tu usuario: memo\n",
      "Usuario no registrado.\n",
      "¿Desea registrarlo?(s/n)s\n",
      "Introduzca su contraseña: memo\n",
      "{'usr503': '2vu2bo', 'usr085': 'geeaa', 'usr406': 'xqzbiy', 'usr182': 'jbngo0', 'usr168': 'qih6e', 'usr900': '6ynym', 'usr542': '7p6mnd', 'usr847': 'ruqq6y', 'usr629': '9qs9g5', 'usr418': 'f15lg', 'memo': 'memo'} \n",
      "\n"
     ]
    }
   ],
   "source": [
    " user_pass = {'usr503': '2vu2bo',\n",
    " 'usr085': 'geeaa',\n",
    " 'usr406': 'xqzbiy',\n",
    " 'usr182': 'jbngo0',\n",
    " 'usr168': 'qih6e',\n",
    " 'usr900': '6ynym',\n",
    " 'usr542': '7p6mnd',\n",
    " 'usr847': 'ruqq6y',\n",
    " 'usr629': '9qs9g5',\n",
    " 'usr418': 'f15lg'}\n",
    "\n",
    "usuario=input(\"Ingresa tu usuario: \")\n",
    "if usuario in user_pass:\n",
    "    usuario_registrado=print(\"Usuario registrado.\")\n",
    "    contraseña=input(\"Introduzca su contraseña: \")\n",
    "    if contraseña in user_pass[usuario]:\n",
    "        print(\"Bienvenido,\",usuario)\n",
    "    else:\n",
    "        print(\"Contraseña incorrecta.\")\n",
    "else:\n",
    "    print(\"Usuario no registrado.\")\n",
    "    registro=input(\"¿Desea registrarlo?(s/n): \")\n",
    "    if registro==\"s\":\n",
    "        contra=input(\"Introduzca su contraseña: \")\n",
    "        user_pass[usuario]=contra\n",
    "        print(user_pass)\n",
    "    else:\n",
    "        if registro==\"n\":\n",
    "            print(\"Saliendo del programa...\")\n",
    "        else:\n",
    "            print(\"Instrucción inválida.\")\n",
    "        "
   ]
  },
  {
   "cell_type": "markdown",
   "metadata": {},
   "source": [
    "3. ¿Qué sucede al correr el siguiente código? Explica.\n",
    "```python\n",
    "    for x in 2:\n",
    "        print(x)\n",
    "```"
   ]
  },
  {
   "cell_type": "raw",
   "metadata": {},
   "source": [
    "Te lanza un error porque el número dos no es un iterable. Un iterable tiene que tener un \"rango\" o elementos dentro de él. Puede ser un range(), una lista, etc."
   ]
  },
  {
   "cell_type": "markdown",
   "metadata": {},
   "source": [
    "4. Escribe un programa que cree el siguiente patrón:\n",
    "```\n",
    "1 \n",
    "1 2 \n",
    "1 2 3 \n",
    "1 2 3 4 \n",
    "1 2 3 4 5 \n",
    "```"
   ]
  },
  {
   "cell_type": "code",
   "execution_count": 29,
   "metadata": {},
   "outputs": [
    {
     "name": "stdout",
     "output_type": "stream",
     "text": [
      "1 \n",
      "1 2 \n",
      "1 2 3 \n",
      "1 2 3 4 \n",
      "1 2 3 4 5 \n"
     ]
    }
   ],
   "source": [
    "for k in range(1,2):\n",
    "    print(k,end=\" \")\n",
    "print()\n",
    "for a in range(1,3):\n",
    "    print(a,end=\" \")\n",
    "print()\n",
    "for t in range(1,4):\n",
    "    print(t,end=\" \")\n",
    "print()\n",
    "for l in range(1,5):\n",
    "    print(l,end=\" \")\n",
    "print()\n",
    "for q in range(1,6):\n",
    "    print(q,end=\" \")\n",
    "print()"
   ]
  },
  {
   "cell_type": "markdown",
   "metadata": {},
   "source": [
    "5. Escribe un programa para adivinar un número:  \n",
    "Considerando un número objetivo `target_num`, el programa le deberá pedir al usuario ingresar un número `input_num`. Si `input_num` > `target_num`, el programa deberá informarle al usuario que su número está por encima del número objetivo; de otra manera, si `input_num` < `target_num`, el programa deberá informarle al usuario que su número se encuentra por debajo del número objetivo. El programa se termina una vez que el usuario adivine el número objetivo, i.e., una vez que `input_num == target_num`."
   ]
  },
  {
   "cell_type": "code",
   "execution_count": null,
   "metadata": {},
   "outputs": [
    {
     "name": "stdout",
     "output_type": "stream",
     "text": [
      "¿Cuál es el número que tengo?\n"
     ]
    }
   ],
   "source": [
    "target_num=20\n",
    "print(\"¿Cuál es el número que tengo?\")\n",
    "while target_num:\n",
    "    input_num=int(input(\"Escribe un número: \"))\n",
    "    if input_num > target_num:\n",
    "        print(\"Demasiado alto.\")\n",
    "    elif input_num < target_num:\n",
    "        print(\"Demasiado bajo.\")\n",
    "    elif input_num == target_num:\n",
    "        print(\"Ganaste.\")\n",
    "        break"
   ]
  },
  {
   "cell_type": "markdown",
   "metadata": {},
   "source": [
    "6. Considerando las listas `capitale` y `estados`, escribe un programa que escriba `\"la capital de <estado> es <capital>\"`; donde `<estado>` y `<capital>` representa cada elemento de las listas mencionadas.\n",
    "\n",
    "```\n",
    "capitales = ['Aguascalientes', 'Mexicali', 'La Paz', 'Campeche', 'Saltillo', 'Colima',\n",
    "             'Tuxtla Gutiérrez', 'Chihuahua', 'Ciudad de México', 'Durango', 'Guanajuato',\n",
    "             'Chilpancingo', 'Pachuca', 'Guadalajara', 'Toluca', 'Morelia', 'Cuernavaca', \n",
    "             'Tepic', 'Monterrey', 'Oaxaca', 'Puebla', 'Querétaro', 'Chetumal', 'San Luis Potosí',\n",
    "             'Culiacán', 'Hermosillo', 'Villahermosa', 'Ciudad Victoria', 'Tlaxcala', 'Xalapa',\n",
    "             'Mérida', 'Zacatecas']\n",
    "estados = ['Aguascalientes', 'Baja California', 'Baja California Sur', 'Campeche', 'Coahuila',\n",
    "           'Colima', 'Chiapas', 'Chihuahua', 'Distrito Federal', 'Durango', 'Guanajuato',\n",
    "           'Guerrero', 'Hidalgo', 'Jalisco', 'México', 'Michoacán', 'Morelos', 'Nayarit',\n",
    "           'Nuevo León', 'Oaxaca', 'Puebla', 'Querétaro', 'Quintana Roo', 'San Luis Potosí',\n",
    "           'Sinaloa', 'Sonora', 'Tabasco', 'Tamaulipas', 'Tlaxcala', 'Veracruz', 'Yucatán', 'Zacatecas']\n",
    "```"
   ]
  },
  {
   "cell_type": "code",
   "execution_count": 9,
   "metadata": {},
   "outputs": [
    {
     "name": "stdout",
     "output_type": "stream",
     "text": [
      "La capital de Aguascalientes es Aguascalientes\n",
      "La capital de Baja California es Mexicali\n",
      "La capital de Baja California Sur es La Paz\n",
      "La capital de Campeche es Campeche\n",
      "La capital de Coahuila es Saltillo\n",
      "La capital de Colima es Colima\n",
      "La capital de Chiapas es Tuxtla Gutiérrez\n",
      "La capital de Chihuahua es Chihuahua\n",
      "La capital de Distrito Federal es Ciudad de México\n",
      "La capital de Durango es Durango\n",
      "La capital de Guanajuato es Guanajuato\n",
      "La capital de Guerrero es Chilpancingo\n",
      "La capital de Hidalgo es Pachuca\n",
      "La capital de Jalisco es Guadalajara\n",
      "La capital de México es Toluca\n",
      "La capital de Michoacán es Morelia\n",
      "La capital de Morelos es Cuernavaca\n",
      "La capital de Nayarit es Tepic\n",
      "La capital de Nuevo León es Monterrey\n",
      "La capital de Oaxaca es Oaxaca\n",
      "La capital de Puebla es Puebla\n",
      "La capital de Querétaro es Querétaro\n",
      "La capital de Quintana Roo es Chetumal\n",
      "La capital de San Luis Potosí es San Luis Potosí\n",
      "La capital de Sinaloa es Culiacán\n",
      "La capital de Sonora es Hermosillo\n",
      "La capital de Tabasco es Villahermosa\n",
      "La capital de Tamaulipas es Ciudad Victoria\n",
      "La capital de Tlaxcala es Tlaxcala\n",
      "La capital de Veracruz es Xalapa\n",
      "La capital de Yucatán es Mérida\n",
      "La capital de Zacatecas es Zacatecas\n"
     ]
    }
   ],
   "source": [
    "capitales = ['Aguascalientes', 'Mexicali', 'La Paz', 'Campeche', 'Saltillo', 'Colima',\n",
    "             'Tuxtla Gutiérrez', 'Chihuahua', 'Ciudad de México', 'Durango', 'Guanajuato',\n",
    "             'Chilpancingo', 'Pachuca', 'Guadalajara', 'Toluca', 'Morelia', 'Cuernavaca', \n",
    "             'Tepic', 'Monterrey', 'Oaxaca', 'Puebla', 'Querétaro', 'Chetumal', 'San Luis Potosí',\n",
    "             'Culiacán', 'Hermosillo', 'Villahermosa', 'Ciudad Victoria', 'Tlaxcala', 'Xalapa',\n",
    "             'Mérida', 'Zacatecas']\n",
    "estados = ['Aguascalientes', 'Baja California', 'Baja California Sur', 'Campeche', 'Coahuila',\n",
    "           'Colima', 'Chiapas', 'Chihuahua', 'Distrito Federal', 'Durango', 'Guanajuato',\n",
    "           'Guerrero', 'Hidalgo', 'Jalisco', 'México', 'Michoacán', 'Morelos', 'Nayarit',\n",
    "           'Nuevo León', 'Oaxaca', 'Puebla', 'Querétaro', 'Quintana Roo', 'San Luis Potosí',\n",
    "           'Sinaloa', 'Sonora', 'Tabasco', 'Tamaulipas', 'Tlaxcala', 'Veracruz', 'Yucatán', 'Zacatecas']\n",
    "estado_capital={}\n",
    "for capital, estado in zip(capitales, estados):\n",
    "    print(\"La capital de\",estado,\"es\",capital)\n"
   ]
  },
  {
   "cell_type": "markdown",
   "metadata": {},
   "source": [
    "7. Escribe un programa que imprima la siguiente tabla de Multiplicación de 10x10.\n",
    "\n",
    "```\n",
    "01|02 03 04 05 06 07 08 09 10 \n",
    "-----------------------------\n",
    "02|04 06 08 10 12 14 16 18 20 \n",
    "03|06 09 12 15 18 21 24 27 30 \n",
    "04|08 12 16 20 24 28 32 36 40 \n",
    "05|10 15 20 25 30 35 40 45 50 \n",
    "06|12 18 24 30 36 42 48 54 60 \n",
    "07|14 21 28 35 42 49 56 63 70 \n",
    "08|16 24 32 40 48 56 64 72 80 \n",
    "09|18 27 36 45 54 63 72 81 90 \n",
    "10|20 30 40 50 60 70 80 90 100\n",
    "```"
   ]
  },
  {
   "cell_type": "code",
   "execution_count": 19,
   "metadata": {},
   "outputs": [
    {
     "name": "stdout",
     "output_type": "stream",
     "text": [
      " \n",
      "1 2 3 4 5 6 7 8 9 10  \n",
      " \n",
      "2 4 6 8 10 12 14 16 18 20  \n",
      "3 6 9 12 15 18 21 24 27 30  \n",
      "4 8 12 16 20 24 28 32 36 40  \n",
      "5 10 15 20 25 30 35 40 45 50  \n",
      "6 12 18 24 30 36 42 48 54 60  \n",
      "7 14 21 28 35 42 49 56 63 70  \n",
      "8 16 24 32 40 48 56 64 72 80  \n",
      "9 18 27 36 45 54 63 72 81 90  \n",
      "10 20 30 40 50 60 70 80 90 100 "
     ]
    }
   ],
   "source": [
    "\n",
    "for x in range(1,11):\n",
    "    if x==2:\n",
    "        print(\" \")\n",
    "    for j in range(1,11):\n",
    "        if j==1:\n",
    "            print(\" \")\n",
    "        multi=print(x*j, end=\" \")\n",
    "        "
   ]
  },
  {
   "cell_type": "markdown",
   "metadata": {},
   "source": [
    "8. [Project Euler Problem #1](https://projecteuler.net/problem=1)  \n",
    "If we list all the natural numbers below 10 that are multiples of 3 or 5, we get 3, 5, 6 and 9. The sum of these multiples is 23.\n",
    "\n",
    "Find the sum of all the multiples of 3 or 5 below 1000."
   ]
  },
  {
   "cell_type": "code",
   "execution_count": 4,
   "metadata": {},
   "outputs": [
    {
     "name": "stdout",
     "output_type": "stream",
     "text": [
      "234168\n"
     ]
    }
   ],
   "source": [
    "sum=0\n",
    "for i in range(1,1001):\n",
    "    if i%3==0 or i%5==0:\n",
    "        sum+=i\n",
    "print(sum)"
   ]
  },
  {
   "cell_type": "markdown",
   "metadata": {},
   "source": [
    "9. [Project Euler Problem #10](https://projecteuler.net/problem=10)  \n",
    "The sum of the primes below $10$ is $2 + 3 + 5 + 7 = 17$.\n",
    "\n",
    "Find the sum of all the primes below two million ($2,000,000,000$).\n",
    "\n",
    "Hint: considera la [Criba de Eratóstenes](https://es.wikipedia.org/wiki/Criba_de_Erat%C3%B3stenes)"
   ]
  },
  {
   "cell_type": "code",
   "execution_count": 21,
   "metadata": {},
   "outputs": [
    {
     "name": "stdout",
     "output_type": "stream",
     "text": [
      "2\n",
      "3\n",
      "5\n",
      "7\n"
     ]
    }
   ],
   "source": [
    "##Sólo me salen los números primos, no la suma ):\n",
    "sum=0\n",
    "for b in range(2,2000000001):\n",
    "    for s in range(2,b):\n",
    "        if b%s==0:\n",
    "            break\n",
    "    else:\n",
    "        print(b)"
   ]
  },
  {
   "cell_type": "code",
   "execution_count": 7,
   "metadata": {},
   "outputs": [
    {
     "data": {
      "text/plain": [
       "3"
      ]
     },
     "execution_count": 7,
     "metadata": {},
     "output_type": "execute_result"
    }
   ],
   "source": [
    "def F(n):\n",
    "    if n == 0: return 0\n",
    "    elif n == 1: return 1\n",
    "    else: return F(n-1)+F(n-2)\n",
    "F(4)"
   ]
  },
  {
   "cell_type": "code",
   "execution_count": 35,
   "metadata": {},
   "outputs": [
    {
     "ename": "SyntaxError",
     "evalue": "invalid syntax (<ipython-input-35-ac3a4883cea2>, line 7)",
     "output_type": "error",
     "traceback": [
      "\u001b[1;36m  File \u001b[1;32m\"<ipython-input-35-ac3a4883cea2>\"\u001b[1;36m, line \u001b[1;32m7\u001b[0m\n\u001b[1;33m    elif 0<multi<10:\u001b[0m\n\u001b[1;37m       ^\u001b[0m\n\u001b[1;31mSyntaxError\u001b[0m\u001b[1;31m:\u001b[0m invalid syntax\n"
     ]
    }
   ],
   "source": [
    "a=5\n",
    "for mult1 in range(1,a+1):\n",
    "    for mult2 in range(1,a+1):\n",
    "        if mult2==1:\n",
    "            print(\" \")\n",
    "        multi=print(mult1*mult2, end=\" \")\n",
    "        elif 0<multi<10:\n",
    "            print(multi+\"a\")"
   ]
  },
  {
   "cell_type": "code",
   "execution_count": 70,
   "metadata": {},
   "outputs": [
    {
     "name": "stdout",
     "output_type": "stream",
     "text": [
      "20\n"
     ]
    }
   ],
   "source": [
    "solucion=0\n",
    "done=False\n",
    "while not done:\n",
    "    solucion += 20\n",
    "    for y in [20, 19, 18, 17, 16, 15, 14, 13, 12, 11]:\n",
    "        if solucion%y!=0:\n",
    "            break\n",
    "        else:\n",
    "            done = True\n",
    "print(solucion)"
   ]
  },
  {
   "cell_type": "code",
   "execution_count": 69,
   "metadata": {},
   "outputs": [
    {
     "name": "stdout",
     "output_type": "stream",
     "text": [
      "232792560\n"
     ]
    }
   ],
   "source": [
    "result = 0\n",
    "done = False\n",
    "\n",
    "while not done:\n",
    "    result += 20\n",
    "    for x in [20, 19, 18, 17, 16, 15, 14, 13, 11]:\n",
    "        if result % x != 0:\n",
    "            break\n",
    "    else:\n",
    "       done = True\n",
    "print(result)"
   ]
  },
  {
   "cell_type": "code",
   "execution_count": 6,
   "metadata": {},
   "outputs": [
    {
     "name": "stdout",
     "output_type": "stream",
     "text": [
      "[1]\n",
      "[1, 1]\n",
      "[1, 2, 1]\n",
      "[1, 3, 3, 1]\n",
      "[1, 4, 6, 4, 1]\n",
      "[1, 5, 10, 10, 5, 1]\n",
      "[1, 6, 15, 20, 15, 6, 1]\n",
      "[1, 7, 21, 35, 35, 21, 7, 1]\n",
      "[1, 8, 28, 56, 70, 56, 28, 8, 1]\n",
      "[1, 9, 36, 84, 126, 126, 84, 36, 9, 1]\n"
     ]
    }
   ],
   "source": [
    "def pascal(n):\n",
    "    list=[1]\n",
    "    for i in range(n):\n",
    "        print(list)\n",
    "        newlist=[]\n",
    "        newlist.append(list[0])\n",
    "        for i in range(len(list)-1):\n",
    "            newlist.append(list[i]+list[i+1])\n",
    "        newlist.append(list[-1])\n",
    "        list=newlist\n",
    "pascal(10)"
   ]
  },
  {
   "cell_type": "code",
   "execution_count": null,
   "metadata": {},
   "outputs": [],
   "source": [
    "list=[1]\n",
    "for i in range(10):\n",
    "    print(list)\n",
    "    newlist=[]\n",
    "    newlist.append(list[0])\n",
    "    for i in range(len(list)-1):\n",
    "        newlist.append(list[i]+list[i+1])\n",
    "    newlist.append(list[-1])\n",
    "    list=newlist"
   ]
  }
 ],
 "metadata": {
  "kernelspec": {
   "display_name": "Python 3",
   "language": "python",
   "name": "python3"
  },
  "language_info": {
   "codemirror_mode": {
    "name": "ipython",
    "version": 3
   },
   "file_extension": ".py",
   "mimetype": "text/x-python",
   "name": "python",
   "nbconvert_exporter": "python",
   "pygments_lexer": "ipython3",
   "version": "3.6.5"
  }
 },
 "nbformat": 4,
 "nbformat_minor": 2
}
