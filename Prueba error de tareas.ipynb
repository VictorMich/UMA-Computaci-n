{
 "cells": [
  {
   "cell_type": "code",
   "execution_count": 73,
   "metadata": {},
   "outputs": [],
   "source": [
    "class Animal:\n",
    "    def __init__(self, especie, can_fly, is_exint):\n",
    "        self.especie=especie\n",
    "        self.can_fly=True\n",
    "        self.is_exint=False\n",
    "    def exint(self):\n",
    "        self.is_exint = True\n",
    "pass\n",
    "paloma = Animal(\"Ave\",True, False)"
   ]
  },
  {
   "cell_type": "code",
   "execution_count": 74,
   "metadata": {},
   "outputs": [
    {
     "data": {
      "text/plain": [
       "'Ave'"
      ]
     },
     "execution_count": 74,
     "metadata": {},
     "output_type": "execute_result"
    }
   ],
   "source": [
    "paloma.exint()\n",
    "paloma.especie"
   ]
  },
  {
   "cell_type": "code",
   "execution_count": 87,
   "metadata": {},
   "outputs": [],
   "source": [
    "class Birds(Animal): \n",
    "    def __init__(self, especie, can_fly, is_exint):\n",
    "        Animal.__init__(self, especie, can_fly, is_exint)\n",
    "        \n",
    "    def sing(self):\n",
    "        return \"Tweet\""
   ]
  },
  {
   "cell_type": "code",
   "execution_count": 92,
   "metadata": {},
   "outputs": [
    {
     "name": "stdout",
     "output_type": "stream",
     "text": [
      "Tweet\n"
     ]
    }
   ],
   "source": [
    "paloma = Birds(\"Ave\", True, False)\n",
    "paloma.sing()"
   ]
  },
  {
   "cell_type": "code",
   "execution_count": null,
   "metadata": {},
   "outputs": [],
   "source": []
  }
 ],
 "metadata": {
  "kernelspec": {
   "display_name": "Python 3",
   "language": "python",
   "name": "python3"
  },
  "language_info": {
   "codemirror_mode": {
    "name": "ipython",
    "version": 3
   },
   "file_extension": ".py",
   "mimetype": "text/x-python",
   "name": "python",
   "nbconvert_exporter": "python",
   "pygments_lexer": "ipython3",
   "version": "3.6.5"
  }
 },
 "nbformat": 4,
 "nbformat_minor": 2
}
