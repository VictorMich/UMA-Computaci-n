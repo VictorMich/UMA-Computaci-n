{
 "cells": [
  {
   "cell_type": "code",
   "execution_count": 1,
   "metadata": {},
   "outputs": [
    {
     "data": {
      "text/plain": [
       "7"
      ]
     },
     "execution_count": 1,
     "metadata": {},
     "output_type": "execute_result"
    }
   ],
   "source": [
    "def collatz(n):\n",
    "    pasos=0\n",
    "    if n >= 2:\n",
    "        while n != 1:\n",
    "            if n%2==0:\n",
    "                pasos=pasos+1\n",
    "                n = n/2\n",
    "            else:\n",
    "                pasos=pasos+1\n",
    "                n=3*n+1\n",
    "    return pasos\n",
    "collatz(3)"
   ]
  },
  {
   "cell_type": "code",
   "execution_count": 15,
   "metadata": {},
   "outputs": [
    {
     "name": "stdout",
     "output_type": "stream",
     "text": [
      " * \n",
      "***\n",
      " * \n"
     ]
    }
   ],
   "source": [
    "def diamond(rows):\n",
    "    total_diamond=\"\"\n",
    "    mid_row=rows/2-0.5\n",
    "    if rows%2==0:\n",
    "        raise ValueError(\"Poner un número impar\")\n",
    "    for i in range(rows):\n",
    "        if i <= mid_row:\n",
    "            nelemen=1+i*2\n",
    "        else:\n",
    "            row_factor=2*(i-mid_row)\n",
    "            nelemen=rows-row_factor\n",
    "            \n",
    "        row=(\"*\"*int(nelemen)).center(rows,\" \")\n",
    "        total_diamond+=row + \"\\n\"\n",
    "        print(row)\n",
    "diamond(3)"
   ]
  },
  {
   "cell_type": "code",
   "execution_count": 17,
   "metadata": {},
   "outputs": [],
   "source": [
    "from math import sqrt\n",
    "import pdb\n",
    "def distancia(V,W):\n",
    "    dist=0\n",
    "    for v, w in zip(V,W):\n",
    "        dist+=(v-w)**2\n",
    "        \n",
    "    return sqrt(dist)"
   ]
  },
  {
   "cell_type": "code",
   "execution_count": 11,
   "metadata": {},
   "outputs": [
    {
     "data": {
      "text/plain": [
       "6"
      ]
     },
     "execution_count": 11,
     "metadata": {},
     "output_type": "execute_result"
    }
   ],
   "source": [
    "times1= lambda x, y:x * y\n",
    "(lambda x, y:x * y)(2,3)"
   ]
  },
  {
   "cell_type": "code",
   "execution_count": 12,
   "metadata": {},
   "outputs": [
    {
     "data": {
      "text/plain": [
       "4"
      ]
     },
     "execution_count": 12,
     "metadata": {},
     "output_type": "execute_result"
    }
   ],
   "source": [
    "(lambda x, y: x ** y)(2,2)"
   ]
  },
  {
   "cell_type": "code",
   "execution_count": 43,
   "metadata": {},
   "outputs": [
    {
     "data": {
      "text/plain": [
       "[1, 4, 9, 16, 25, 36, 49, 64, 81, 100]"
      ]
     },
     "execution_count": 43,
     "metadata": {},
     "output_type": "execute_result"
    }
   ],
   "source": [
    "\n",
    "list(map(lambda x: x ** 2, range(1,11)))"
   ]
  },
  {
   "cell_type": "code",
   "execution_count": 46,
   "metadata": {},
   "outputs": [
    {
     "data": {
      "text/plain": [
       "[0, 1, 2, 3, 4, 5, 6, 7, 8, 9]"
      ]
     },
     "execution_count": 46,
     "metadata": {},
     "output_type": "execute_result"
    }
   ],
   "source": [
    "list(range(0,10))"
   ]
  },
  {
   "cell_type": "code",
   "execution_count": 78,
   "metadata": {},
   "outputs": [
    {
     "data": {
      "text/plain": [
       "[[2, 0, 1, 1.0],\n",
       " [4, 0, 4, 1.0],\n",
       " [6, 0, 9, 1.0],\n",
       " [8, 0, 16, 1.0],\n",
       " [10, 0, 25, 1.0],\n",
       " [12, 0, 36, 1.0],\n",
       " [14, 0, 49, 1.0],\n",
       " [16, 0, 64, 1.0],\n",
       " [18, 0, 81, 1.0]]"
      ]
     },
     "execution_count": 78,
     "metadata": {},
     "output_type": "execute_result"
    }
   ],
   "source": [
    "func = [lambda x: x+x, lambda x: x-x, lambda x:x*x, lambda x:x/x]"
   ]
  },
  {
   "cell_type": "code",
   "execution_count": 89,
   "metadata": {},
   "outputs": [
    {
     "data": {
      "text/plain": [
       "[[2, 4, 6, 8, 10, 12, 14, 16, 18, 20],\n",
       " [0, 0, 0, 0, 0, 0, 0, 0, 0, 0],\n",
       " [1, 4, 9, 16, 25, 36, 49, 64, 81, 100],\n",
       " [1.0, 1.0, 1.0, 1.0, 1.0, 1.0, 1.0, 1.0, 1.0, 1.0]]"
      ]
     },
     "execution_count": 89,
     "metadata": {},
     "output_type": "execute_result"
    }
   ],
   "source": [
    "list(map(lambda f: list(map(f,range(1,11))), func))"
   ]
  },
  {
   "cell_type": "code",
   "execution_count": 92,
   "metadata": {},
   "outputs": [
    {
     "data": {
      "text/plain": [
       "[1, 3, 5, 7, 9]"
      ]
     },
     "execution_count": 92,
     "metadata": {},
     "output_type": "execute_result"
    }
   ],
   "source": [
    "elementos=[1,2,3,4,5,6,7,8,9]\n",
    "list(filter(lambda x: x%2 != 0, elementos))"
   ]
  },
  {
   "cell_type": "code",
   "execution_count": 121,
   "metadata": {},
   "outputs": [
    {
     "data": {
      "text/plain": [
       "['calculo',\n",
       " 'finanzas',\n",
       " 'optimizacion',\n",
       " 'geometria',\n",
       " 'programacion',\n",
       " 'estadistica']"
      ]
     },
     "execution_count": 121,
     "metadata": {},
     "output_type": "execute_result"
    }
   ],
   "source": [
    "materias = [\"CALCULO\",\"FINANZAS\",\"OPTIMIZACION\",\"GEOMETRIA\",\"PROGRAMACION\",\"ESTADISTICA\"]\n",
    "list(map(lambda x: x.lower(), materias))"
   ]
  },
  {
   "cell_type": "code",
   "execution_count": 131,
   "metadata": {},
   "outputs": [
    {
     "data": {
      "text/plain": [
       "['OPTIMIZACION', 'PROGRAMACION', 'ESTADISTICA']"
      ]
     },
     "execution_count": 131,
     "metadata": {},
     "output_type": "execute_result"
    }
   ],
   "source": [
    "materias = [\"CALCULO\",\"FINANZAS\",\"OPTIMIZACION\",\"GEOMETRIA\",\"PROGRAMACION\",\"ESTADISTICA\"]\n",
    "list(filter(lambda x: len(x) > 10, materias))"
   ]
  },
  {
   "cell_type": "code",
   "execution_count": 132,
   "metadata": {},
   "outputs": [
    {
     "data": {
      "text/plain": [
       "['optimizacion', 'programacion', 'estadistica']"
      ]
     },
     "execution_count": 132,
     "metadata": {},
     "output_type": "execute_result"
    }
   ],
   "source": [
    "list(map(lambda x: x.lower(), filter(lambda x: len(x)>10, materias)))"
   ]
  },
  {
   "cell_type": "code",
   "execution_count": 139,
   "metadata": {},
   "outputs": [
    {
     "data": {
      "text/plain": [
       "[1, 9, 25, 49, 81, 121]"
      ]
     },
     "execution_count": 139,
     "metadata": {},
     "output_type": "execute_result"
    }
   ],
   "source": [
    "list(filter(lambda x: x%2!=0, map(lambda x: x**2, range(1,12))))"
   ]
  },
  {
   "cell_type": "code",
   "execution_count": 143,
   "metadata": {},
   "outputs": [
    {
     "data": {
      "text/plain": [
       "[1, 4, 9, 16, 25, 36, 49, 64, 81, 100, 121]"
      ]
     },
     "execution_count": 143,
     "metadata": {},
     "output_type": "execute_result"
    }
   ],
   "source": [
    "[x**2 for x in range(1,12)]"
   ]
  },
  {
   "cell_type": "code",
   "execution_count": 142,
   "metadata": {},
   "outputs": [
    {
     "data": {
      "text/plain": [
       "[1, 9, 25, 49, 81]"
      ]
     },
     "execution_count": 142,
     "metadata": {},
     "output_type": "execute_result"
    }
   ],
   "source": [
    "[x**2 for x in range(1,12) if x % 2 == 1]"
   ]
  },
  {
   "cell_type": "code",
   "execution_count": 144,
   "metadata": {},
   "outputs": [
    {
     "name": "stdout",
     "output_type": "stream",
     "text": [
      "17\n"
     ]
    }
   ],
   "source": [
    "p = {1:2,2:3,4:7,7:17}\n",
    "print(p[p[4]])"
   ]
  },
  {
   "cell_type": "code",
   "execution_count": 146,
   "metadata": {},
   "outputs": [
    {
     "data": {
      "text/plain": [
       "233168"
      ]
     },
     "execution_count": 146,
     "metadata": {},
     "output_type": "execute_result"
    }
   ],
   "source": [
    "sum([x for x in range(1000) if x%5 == 0 or x%3 == 0])"
   ]
  },
  {
   "cell_type": "code",
   "execution_count": 153,
   "metadata": {},
   "outputs": [],
   "source": [
    "conjunto_potencia_unidades = lambda n, lim: {x: list({x**p % 10 for p in range(1,lim+1)}) for x in range(n+1)}"
   ]
  },
  {
   "cell_type": "code",
   "execution_count": 154,
   "metadata": {},
   "outputs": [
    {
     "data": {
      "text/plain": [
       "{0: [0],\n",
       " 1: [1],\n",
       " 2: [8, 2, 4, 6],\n",
       " 3: [9, 3, 1, 7],\n",
       " 4: [4, 6],\n",
       " 5: [5],\n",
       " 6: [6],\n",
       " 7: [9, 3, 1, 7],\n",
       " 8: [8, 2, 4, 6],\n",
       " 9: [9, 1],\n",
       " 10: [0]}"
      ]
     },
     "execution_count": 154,
     "metadata": {},
     "output_type": "execute_result"
    }
   ],
   "source": [
    "conjunto_potencia_unidades(10,20)"
   ]
  },
  {
   "cell_type": "code",
   "execution_count": 6,
   "metadata": {},
   "outputs": [
    {
     "data": {
      "text/plain": [
       "False"
      ]
     },
     "execution_count": 6,
     "metadata": {},
     "output_type": "execute_result"
    }
   ],
   "source": [
    "U=[1,3,3,10]\n",
    "def F(x): return x > 10\n",
    "def G(x): return x%2==1\n",
    "any(F(x) for x in U if G(x))"
   ]
  },
  {
   "cell_type": "code",
   "execution_count": 17,
   "metadata": {},
   "outputs": [
    {
     "data": {
      "text/plain": [
       "True"
      ]
     },
     "execution_count": 17,
     "metadata": {},
     "output_type": "execute_result"
    }
   ],
   "source": [
    "A=[0,2,4,6]\n",
    "B=[0,1,2,3]\n",
    "def F(a,b): return a==b*2\n",
    "\n",
    "\n",
    "all([any([F(a, b) for a in A]) for b in B])"
   ]
  },
  {
   "cell_type": "code",
   "execution_count": 25,
   "metadata": {},
   "outputs": [
    {
     "data": {
      "text/plain": [
       "True"
      ]
     },
     "execution_count": 25,
     "metadata": {},
     "output_type": "execute_result"
    }
   ],
   "source": [
    "U = [36,33,43,75,21,92,16,34,31,35,80,45,47,10,52,45,21,58,30,42]\n",
    "def implies(a,b): return not(a and not b)\n",
    "def par(x): return x%2 == 0\n",
    "def impar(x): return not par(x)\n",
    "\n",
    "\n",
    "all(implies(par(x), not impar(x))for x in U)"
   ]
  },
  {
   "cell_type": "code",
   "execution_count": 26,
   "metadata": {},
   "outputs": [
    {
     "data": {
      "text/plain": [
       "False"
      ]
     },
     "execution_count": 26,
     "metadata": {},
     "output_type": "execute_result"
    }
   ],
   "source": [
    "any([par(x) and impar(x) for x in U])"
   ]
  },
  {
   "cell_type": "code",
   "execution_count": 41,
   "metadata": {},
   "outputs": [
    {
     "data": {
      "text/plain": [
       "[True, True, True, True, True, False]"
      ]
     },
     "execution_count": 41,
     "metadata": {},
     "output_type": "execute_result"
    }
   ],
   "source": [
    "U = [range(1999,3001)]\n",
    "X = [(2010,\"Feb\"),(2010,\"Jan\"),(2011,\"Feb\"),(2015,\"Dec\"),(2018,\"Feb\"),(2018,\"Aug\")]\n",
    "Y = [\"Apr\",\"May\",\"Jun\",\"Jul\",\"Aug\",\"Sep\",\"Oct\",\"Nov\",\"Dec\"]\n",
    "def F(x): return 2010 <= x <= 2018\n",
    "[F(x[0]) and not (x[0] == 2018 and x[1] in Y) for x in X]"
   ]
  },
  {
   "cell_type": "code",
   "execution_count": null,
   "metadata": {},
   "outputs": [],
   "source": []
  },
  {
   "cell_type": "code",
   "execution_count": null,
   "metadata": {},
   "outputs": [],
   "source": []
  }
 ],
 "metadata": {
  "kernelspec": {
   "display_name": "Python 3",
   "language": "python",
   "name": "python3"
  },
  "language_info": {
   "codemirror_mode": {
    "name": "ipython",
    "version": 3
   },
   "file_extension": ".py",
   "mimetype": "text/x-python",
   "name": "python",
   "nbconvert_exporter": "python",
   "pygments_lexer": "ipython3",
   "version": "3.6.5"
  }
 },
 "nbformat": 4,
 "nbformat_minor": 2
}
