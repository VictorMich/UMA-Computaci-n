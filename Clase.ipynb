{
 "cells": [
  {
   "cell_type": "code",
   "execution_count": 1,
   "metadata": {},
   "outputs": [
    {
     "data": {
      "text/plain": [
       "7"
      ]
     },
     "execution_count": 1,
     "metadata": {},
     "output_type": "execute_result"
    }
   ],
   "source": [
    "def collatz(n):\n",
    "    pasos=0\n",
    "    if n >= 2:\n",
    "        while n != 1:\n",
    "            if n%2==0:\n",
    "                pasos=pasos+1\n",
    "                n = n/2\n",
    "            else:\n",
    "                pasos=pasos+1\n",
    "                n=3*n+1\n",
    "    return pasos\n",
    "collatz(3)"
   ]
  },
  {
   "cell_type": "code",
   "execution_count": 2,
   "metadata": {},
   "outputs": [
    {
     "name": "stdout",
     "output_type": "stream",
     "text": [
      "    *    \n",
      "   ***   \n",
      "  *****  \n",
      " ******* \n",
      "*********\n",
      " ******* \n",
      "  *****  \n",
      "   ***   \n",
      "    *    \n"
     ]
    }
   ],
   "source": [
    "def diamond(rows):\n",
    "    total_diamond=\"\"\n",
    "    mid_row=rows/2-0.5\n",
    "    for i in range(rows):\n",
    "        if i <= mid_row:\n",
    "            nelemen=1+i*2\n",
    "        else:\n",
    "            row_factor=2*(i-mid_row)\n",
    "            nelemen=rows-row_factor\n",
    "            \n",
    "        row=(\"*\"*int(nelemen)).center(rows,\" \")\n",
    "        total_diamond+=row + \"\\n\"\n",
    "        print(row)\n",
    "diamond(9)"
   ]
  },
  {
   "cell_type": "code",
   "execution_count": null,
   "metadata": {},
   "outputs": [],
   "source": []
  }
 ],
 "metadata": {
  "kernelspec": {
   "display_name": "Python 3",
   "language": "python",
   "name": "python3"
  },
  "language_info": {
   "codemirror_mode": {
    "name": "ipython",
    "version": 3
   },
   "file_extension": ".py",
   "mimetype": "text/x-python",
   "name": "python",
   "nbconvert_exporter": "python",
   "pygments_lexer": "ipython3",
   "version": "3.6.5"
  }
 },
 "nbformat": 4,
 "nbformat_minor": 2
}
