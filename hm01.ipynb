{
 "cells": [
  {
   "cell_type": "markdown",
   "metadata": {},
   "source": [
    "# Víctor Fernando Michel Juárez\n",
    "Universidad Marista, Escuela de Actuaría\n",
    "Tarea 1"
   ]
  },
  {
   "cell_type": "raw",
   "metadata": {},
   "source": [
    "1. Escribe un programa que le pida al usuario tres números y regrese la suma de sus resultados."
   ]
  },
  {
   "cell_type": "code",
   "execution_count": 1,
   "metadata": {},
   "outputs": [
    {
     "name": "stdout",
     "output_type": "stream",
     "text": [
      "Introduzca un número: 60\n",
      "Introduzca el segundo número: 60\n",
      "Introduzca el tercer número: 60\n",
      "60+60+60=180\n"
     ]
    }
   ],
   "source": [
    "n1=int(input(\"Introduzca un número: \"))\n",
    "n2=int(input(\"Introduzca el segundo número: \"))\n",
    "n3=int(input(\"Introduzca el tercer número: \"))\n",
    "print(f\"{n1}+{n2}+{n3}={n1+n2+n3}\")"
   ]
  },
  {
   "cell_type": "raw",
   "metadata": {},
   "source": [
    "2. Escribe un programa que pida el nombre y la edad del usuario. Posteriormente, deberá imprimir el nombre del usuario repetido el mismo número de su edad; cada repetición del nombre en una nueva línea."
   ]
  },
  {
   "cell_type": "code",
   "execution_count": 2,
   "metadata": {},
   "outputs": [
    {
     "name": "stdout",
     "output_type": "stream",
     "text": [
      "Introduce tu nombre: Víctor\n",
      "Introduce tu edad: 19\n",
      "Víctor\n",
      "Víctor\n",
      "Víctor\n",
      "Víctor\n",
      "Víctor\n",
      "Víctor\n",
      "Víctor\n",
      "Víctor\n",
      "Víctor\n",
      "Víctor\n",
      "Víctor\n",
      "Víctor\n",
      "Víctor\n",
      "Víctor\n",
      "Víctor\n",
      "Víctor\n",
      "Víctor\n",
      "Víctor\n",
      "Víctor\n",
      "\n"
     ]
    }
   ],
   "source": [
    "nombre=input(\"Introduce tu nombre: \")\n",
    "edad=int(input(\"Introduce tu edad: \"))\n",
    "print((nombre+\"\\n\")*edad)"
   ]
  },
  {
   "cell_type": "raw",
   "metadata": {},
   "source": [
    "3. Considerando la variable trabalenguas (definida abajo, elimina todas las \"r\" y \"s\" del string.)"
   ]
  },
  {
   "cell_type": "code",
   "execution_count": 56,
   "metadata": {},
   "outputs": [
    {
     "data": {
      "text/plain": [
       "'En te tite tato de tigo,\\nte tite tige comían tigo.\\nComían tigo, te tite tige,\\nen te tite tato de tigo.'"
      ]
     },
     "execution_count": 56,
     "metadata": {},
     "output_type": "execute_result"
    }
   ],
   "source": [
    "trabalenguas = \"\"\"En tres tristes trastos de trigo,\n",
    "tres tristes tigres comían trigo.\n",
    "Comían trigo, tres tristes tigres,\n",
    "en tres tristes trastos de trigo.\"\"\"\n",
    "\n",
    "trabalenguas.replace(\"r\",\"\").replace(\"s\",\"\")"
   ]
  },
  {
   "cell_type": "raw",
   "metadata": {},
   "source": [
    "4. Escribe un programa que le pida al usuario una frase y una palabra_objetivo; el programa deberá imprimir en la pantalla todos los carácteres posteriores (no espacios) a la palabra objetivo. Por ejemplo, si frase = \"Como valuar un forward-starting swap\" y palabra_objetivo = \"un\", el programa debe regresar forward-starting swap."
   ]
  },
  {
   "cell_type": "code",
   "execution_count": 3,
   "metadata": {},
   "outputs": [
    {
     "name": "stdout",
     "output_type": "stream",
     "text": [
      "Escribe la frase: Como valuar un forward-starting swap\n",
      "Palabra objetivo: un\n"
     ]
    },
    {
     "data": {
      "text/plain": [
       "'forward-starting swap'"
      ]
     },
     "execution_count": 3,
     "metadata": {},
     "output_type": "execute_result"
    }
   ],
   "source": [
    "frase=input(\"Escribe la frase: \")\n",
    "palabra_objetivo=input(\"Palabra objetivo: \")\n",
    "frase[frase.find(palabra_objetivo)+len(palabra_objetivo)+1:]"
   ]
  }
 ],
 "metadata": {
  "kernelspec": {
   "display_name": "Python 3",
   "language": "python",
   "name": "python3"
  },
  "language_info": {
   "codemirror_mode": {
    "name": "ipython",
    "version": 3
   },
   "file_extension": ".py",
   "mimetype": "text/x-python",
   "name": "python",
   "nbconvert_exporter": "python",
   "pygments_lexer": "ipython3",
   "version": "3.6.5"
  }
 },
 "nbformat": 4,
 "nbformat_minor": 2
}
