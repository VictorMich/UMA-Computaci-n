{
 "cells": [
  {
   "cell_type": "markdown",
   "metadata": {},
   "source": [
    "# Tarea 2\n",
    "Víctor Fernando Michel Juárez"
   ]
  },
  {
   "cell_type": "raw",
   "metadata": {},
   "source": [
    "1.Dado el diccionario vocales, accede al primer elemento dentro de la llave \"minusculas\""
   ]
  },
  {
   "cell_type": "code",
   "execution_count": 1,
   "metadata": {},
   "outputs": [
    {
     "data": {
      "text/plain": [
       "'a'"
      ]
     },
     "execution_count": 1,
     "metadata": {},
     "output_type": "execute_result"
    }
   ],
   "source": [
    "vocales = {\n",
    " \"mayusculas\": ['A', 'E', 'I', 'O', 'U'],\n",
    " \"minusculas\": ['a', 'e', 'i', 'o', 'u']\n",
    "}\n",
    "vocales[\"minusculas\"][0]"
   ]
  },
  {
   "cell_type": "raw",
   "metadata": {},
   "source": [
    "2.Modifica el diccionario alumnos de tal manera que cada llave del diccionario sea el nombre del estudiante y el valor un diccionario adicional con las llaves \"edad\", \"color_favorito\", \"carrera\", asignados a sus valores correspondientes."
   ]
  },
  {
   "cell_type": "code",
   "execution_count": 2,
   "metadata": {},
   "outputs": [],
   "source": [
    "alumnos = {\n",
    "    \"José\":    [11, \"rojo\", \"Administración\"],\n",
    "    \"Charlie\": [33, \"Violeta\", \"Ingeniería\"],\n",
    "    \"Luis\": [23, \"Negro\", \"Matemáticas\"],\n",
    "    \"Johanna\": [18, \"Gris\", \"Finanzas\"],\n",
    "}"
   ]
  },
  {
   "cell_type": "code",
   "execution_count": 8,
   "metadata": {},
   "outputs": [],
   "source": [
    "nombre ={\"Nombre\": [\"José\",\"Charlie\",\"Luis\",\"Johanna\"]}\n",
    "edad ={\"Edad\":[\"11\",\"33\",\"23\",\"18\"]}\n",
    "color_favorito={\"Color\":[\"rojo\",\"violeta\",\"negro\",\"gris\"]}\n",
    "carrera={\"Carrera\":[\"Administración\",\"Ingeniería\",\"Matemáticas\",\"Finanzas\"]}"
   ]
  },
  {
   "cell_type": "code",
   "execution_count": 13,
   "metadata": {},
   "outputs": [
    {
     "data": {
      "text/plain": [
       "({'Nombre': ['José', 'Charlie', 'Luis', 'Johanna']},\n",
       " {'Edad': ['11', '33', '23', '18']},\n",
       " {'Color': ['rojo', 'violeta', 'negro', 'gris']},\n",
       " {'Carrera': ['Administración', 'Ingeniería', 'Matemáticas', 'Finanzas']})"
      ]
     },
     "execution_count": 13,
     "metadata": {},
     "output_type": "execute_result"
    }
   ],
   "source": [
    "nombre, edad, color_favorito, carrera"
   ]
  },
  {
   "cell_type": "raw",
   "metadata": {},
   "source": [
    "3.¿Cuál es la longitud del set {'q', 'u', 'e', 'u', 'e'}? Explica.\n",
    "Su longitud es de 3. No contabiliza los elementos repetidos dentro de un conjunto."
   ]
  },
  {
   "cell_type": "raw",
   "metadata": {},
   "source": [
    "4.Considerando los conjuntos investor1, investor2 e investor3\n",
    " A) Encuentra todas las acciones que investor1, investor2, investor3 e investor4 tienen en conjunto\n",
    " B) Encuentra las acciones que investor1, investor3 e investor4 tienen en común"
   ]
  },
  {
   "cell_type": "code",
   "execution_count": 5,
   "metadata": {},
   "outputs": [],
   "source": [
    "investor1 = {'HOTEL', 'CHDRAUI', 'ALPEK', 'VISTA', 'MFRISCO', 'AHMSA', 'LAB', 'SPORT', 'SAVIA', 'LASEG'}\n",
    "investor2 = {'CMOCTEZ', 'BEVIDES', 'OMA', 'GNP', 'AGRIEXP', 'SPORT', 'TRAXION', 'GENTERA', 'COLLADO', 'LAMOSA'}\n",
    "investor3 = {'FEMSA', 'ALSEA', 'BIMBO', 'ELEMENT', 'FINAMEX', 'GCC', 'VISTA', 'GEO', 'IENOVA', 'OMA', 'CADU', 'ANB', 'AUTLAN', 'GICSA', 'GFNORTE', 'IDEAL', 'MEXCHEM', 'ELEKTRA', 'SITES', 'CABLE'}\n",
    "investor4 = {'GENTERA', 'BOLSA', 'VISTA', 'TEAK', 'ACCELSA', 'CUERVO', 'TEKCHEM', 'QBINDUS', 'MEDICA', 'URBI', 'CIE', 'NEMAK', 'KIMBER', 'GPH', 'GMD', 'ACTINVR', 'GAP', 'JAVER', 'INGEAL', 'ARA'}"
   ]
  },
  {
   "cell_type": "code",
   "execution_count": 6,
   "metadata": {},
   "outputs": [
    {
     "data": {
      "text/plain": [
       "{'ACCELSA',\n",
       " 'ACTINVR',\n",
       " 'AGRIEXP',\n",
       " 'AHMSA',\n",
       " 'ALPEK',\n",
       " 'ALSEA',\n",
       " 'ANB',\n",
       " 'ARA',\n",
       " 'AUTLAN',\n",
       " 'BEVIDES',\n",
       " 'BIMBO',\n",
       " 'BOLSA',\n",
       " 'CABLE',\n",
       " 'CADU',\n",
       " 'CHDRAUI',\n",
       " 'CIE',\n",
       " 'CMOCTEZ',\n",
       " 'COLLADO',\n",
       " 'CUERVO',\n",
       " 'ELEKTRA',\n",
       " 'ELEMENT',\n",
       " 'FEMSA',\n",
       " 'FINAMEX',\n",
       " 'GAP',\n",
       " 'GCC',\n",
       " 'GENTERA',\n",
       " 'GEO',\n",
       " 'GFNORTE',\n",
       " 'GICSA',\n",
       " 'GMD',\n",
       " 'GNP',\n",
       " 'GPH',\n",
       " 'HOTEL',\n",
       " 'IDEAL',\n",
       " 'IENOVA',\n",
       " 'INGEAL',\n",
       " 'JAVER',\n",
       " 'KIMBER',\n",
       " 'LAB',\n",
       " 'LAMOSA',\n",
       " 'LASEG',\n",
       " 'MEDICA',\n",
       " 'MEXCHEM',\n",
       " 'MFRISCO',\n",
       " 'NEMAK',\n",
       " 'OMA',\n",
       " 'QBINDUS',\n",
       " 'SAVIA',\n",
       " 'SITES',\n",
       " 'SPORT',\n",
       " 'TEAK',\n",
       " 'TEKCHEM',\n",
       " 'TRAXION',\n",
       " 'URBI',\n",
       " 'VISTA'}"
      ]
     },
     "execution_count": 6,
     "metadata": {},
     "output_type": "execute_result"
    }
   ],
   "source": [
    "#Para A)\n",
    "investor1|investor2|investor3|investor4"
   ]
  },
  {
   "cell_type": "code",
   "execution_count": 9,
   "metadata": {},
   "outputs": [
    {
     "data": {
      "text/plain": [
       "{'VISTA'}"
      ]
     },
     "execution_count": 9,
     "metadata": {},
     "output_type": "execute_result"
    }
   ],
   "source": [
    "#Para B)\n",
    "investor1&investor3&investor4"
   ]
  }
 ],
 "metadata": {
  "kernelspec": {
   "display_name": "Python 3",
   "language": "python",
   "name": "python3"
  },
  "language_info": {
   "codemirror_mode": {
    "name": "ipython",
    "version": 3
   },
   "file_extension": ".py",
   "mimetype": "text/x-python",
   "name": "python",
   "nbconvert_exporter": "python",
   "pygments_lexer": "ipython3",
   "version": "3.6.5"
  }
 },
 "nbformat": 4,
 "nbformat_minor": 2
}
