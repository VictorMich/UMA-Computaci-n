{
 "cells": [
  {
   "cell_type": "markdown",
   "metadata": {},
   "source": [
    "Considerando $U = \\mathbb{Z}^+ \\cup \\{0\\}$, los subconjuntos $A = \\{5, 2, 81, 3, 12, 6, 16\\}$, $B = \\{1, 3, 4\\}$ y los predicados:\n",
    "\n",
    "* $F(x) \\equiv x \\mod 2 = 0$\n",
    "* $G(x) \\equiv x < 10$\n",
    "* $H(x) \\equiv \\sqrt{x} \\in \\mathbb{Z}^+$\n",
    "\n",
    "Escriba una expresión expresión en Python calcule las siguientes dos expresiones\n",
    "\n",
    "1. **(1.5pts)** Todos los números en $A$ menores a 10 son pares\n",
    "2. **(1.5pts)** Exite al menos un número en $A$ par cuya raíz cuadrada es un número entero\n",
    "3. **(3pts)** Cada elemento en $A$ es el doble de algún elemento en $B$\n",
    "\n",
    "*hint* la función `sqrt` de la librería `math`, para calcular la raíz cuadrada de un número, siempre regresa un `float`"
   ]
  },
  {
   "cell_type": "code",
   "execution_count": 16,
   "metadata": {},
   "outputs": [
    {
     "data": {
      "text/plain": [
       "False"
      ]
     },
     "execution_count": 16,
     "metadata": {},
     "output_type": "execute_result"
    }
   ],
   "source": [
    "from math import sqrt\n",
    "\n",
    "A = [5, 2, 81, 3, 12, 6, 16]\n",
    "B = [1, 3, 4]\n",
    "def implies(p, q): return not (p and not q)\n",
    "def F(x): return x % 2 == 0\n",
    "def G(x): return x < 10\n",
    "def H(x): return sqrt(x) % 1 == 0\n",
    "\n",
    "#1\n",
    "all([implies(G(x), F(x)) for x in U])\n",
    "# 2\n",
    "any([F(x) and H(x) for x in U])\n",
    "# 3\n",
    "all([any([2 * b == a for a  in A]) for b in B])"
   ]
  },
  {
   "cell_type": "markdown",
   "metadata": {},
   "source": [
    "4. **(2pts)** Por medio de un list comprehension o usando la función `map`, escribe la función `std` que calcule la desviación estándard de un número:\n",
    "$$\n",
    "    \\texttt{std(X)} = \\sqrt{\\frac{1}{N-1}\\sum_{n=1}^N(x_i - \\bar x)^2}\n",
    "$$\n",
    "\n",
    "Donde $\\bar x$ denota el valor promedio de la lista $X$ con $N$ elementos, i.e, $\\bar x = \\frac{1}{N}\\sum_{N=1}^N x_n$\n",
    "```python\n",
    ">>> std([1, 2, 3, 4])\n",
    "1.2909944487358056\n",
    ">>> std([3, 1, 4, 1, 5])\n",
    "1.7888543819998317\n",
    ">>> std([2, 1, 1, 1, 1, 2])\n",
    "0.5163977794943222\n",
    "```"
   ]
  },
  {
   "cell_type": "code",
   "execution_count": 25,
   "metadata": {},
   "outputs": [
    {
     "name": "stdout",
     "output_type": "stream",
     "text": [
      "1.7888543819998317\n",
      "0.5163977794943222\n"
     ]
    }
   ],
   "source": [
    "def std(X):\n",
    "    return sqrt(sum([(x - sum(X) / len(X)) ** 2 for x in X]) / (len(X) - 1))\n",
    "\n",
    "\n",
    "print(std([3, 1, 4, 1, 5]))\n",
    "print(std([2, 1, 1, 1, 1, 2]))"
   ]
  },
  {
   "cell_type": "markdown",
   "metadata": {},
   "source": [
    "5. **(3pts)** Define la clase `Caja` que tome la variable `monto_inicial` en el constructor e inicialice dos variables internas:\n",
    "\n",
    "\n",
    "* `self.__productos` a un diccionario vacío (este guardará información sobre los productos en venta)\n",
    "* `self.__monto` igual a `monto_inicial`\n",
    "    \n",
    "Posteriormente, define los siguientes métodos dentro de la clase `Caja`:\n",
    "* `obtener_monto` que imprima en la pantalla: `\"El monto total en la caja es de ${self.__monto}\"`\n",
    "\n",
    "\n",
    "* `agregar_producto`, que tome `nombre_producto`, `precio_producto` y `unidades_disponibles` como parámetros. Esta función deberá modificar `self.__productos` cuya nueva llave será `nombre_producto` y valor un diccionario con tres llaves `\"precio\"` (cuyo valor será `precio_producto`), `\"unidades_disponibles\"`, con valor `unidades_disponibles` y `\"unidades_vendidas\"`, cuyo inicial será `0`. Si el producto `nombre_producto` ya se encuentra definido dentro de `self.__productos`, el programa deberá arrojar un `KeyError` con mensaje `\"El producto {nombre_producto} ya se encuentra registrado\"`\n",
    "\n",
    "\n",
    "* `venta`, que tome `nombre_producto`, `unidades` y `cantidad_recibida` como parámetros. Si `nombre_producto` no es una llave de `self.__productos`, el programa deberá arrojar un `KeyError` con mensaje `\"El producto {nombre_producto} no se encuentra registrado\"`; si la `cantidad_recibida` es menor al valor de la compra (unidades multiplicado por el valor unitario del producto el programa deberá arroja un `ValueError` con mensaje `\"El monto otorgado es menor al valor de la compra\"`; en cualquier otro caso, \n",
    "    * el programa deberá modificar `self.__productos` considerando la llave `nombre_producto`: sumar `unidades` a `unidades_vendidas`\n",
    "    * Calcular el cambio del cliente.\n",
    "    * Modificar el monto en `self.__monto` considerando el valor de la compra y el cambio al cliente\n",
    "    * Imprimir en la pantalla: `\"Su cambio es de {cambio}`\"\n",
    "    \n",
    "* (Extra) Modifica la clase `Caja` agregando métodos que \n",
    "\n",
    "Por ejemplo:\n",
    "```python\n",
    ">>> caja = Caja(100)\n",
    ">>> caja.obtener_monto()\n",
    "El monto total en la caja es de 100\n",
    ">>> caja.agregar_producto(\"Manzana\", 7, 100)\n",
    ">>> caja.venta(\"Manzana\", 2, 20)\n",
    "su cambio es de 6\n",
    ">>> caja.obtener_monto()\n",
    "El monto total en la caja es de 114\n",
    "```\n",
    "\n",
    "-----\n",
    "```python\n",
    ">>> caja = Caja(100)\n",
    ">>> caja.agregar_producto(\"Manzana\", 7, 100)\n",
    ">>> caja.agregar_producto(\"Manzana\", 10, 100)\n",
    "Traceback (most recent call last):\n",
    "  File \"<input>\", line 1, in <module>\n",
    "    caja.agregar_producto(\"Manzana\", 10, 100)\n",
    "  File \"<input>\", line 11, in agregar_producto\n",
    "    raise KeyError(f\"El producto {nombre_producto} ya se encuentra registrado\")\n",
    "KeyError: 'El producto Manzana ya se encuentra registrado'\n",
    "```\n",
    "\n",
    "----\n",
    "```python\n",
    ">>> caja = Caja(100)\n",
    ">>> caja.agregar_producto(\"Manzana\", 7, 100)\n",
    ">>> caja.venta(\"Manzana\", 2, 10)\n",
    "Traceback (most recent call last):\n",
    "  File \"<input>\", line 1, in <module>\n",
    "    caja.venta(\"Manzana\", 2, 10)\n",
    "  File \"<input>\", line 20, in venta\n",
    "    raise ValueError(\"El monto otorgado es menor al valor de la compra\")\n",
    "ValueError: El monto otorgado es menor al valor de la compra\n",
    "```"
   ]
  },
  {
   "cell_type": "code",
   "execution_count": 51,
   "metadata": {},
   "outputs": [],
   "source": [
    "class Caja:\n",
    "    def __init__(self, monto_inicial):\n",
    "        self.__productos = {}\n",
    "        self.__monto = monto_inicial\n",
    "    \n",
    "    def obtener_monto(self):\n",
    "        print(f\"El monto total en la caja es de ${self.__monto}\")\n",
    "    \n",
    "    def agregar_producto(self, nombre_producto, precio_producto, unidades_disponibles):\n",
    "        if nombre_producto in self.__productos:\n",
    "            raise KeyError(f\"El producto {nombre_producto} ya se encuentra registrado\")\n",
    "        self.__productos[nombre_producto] = {\"precio\": precio_producto,\n",
    "                                             \"unidades_disponibles\": unidades_disponibles,\n",
    "                                             \"unidades_vendidas\": 0}\n",
    "    \n",
    "    def venta(self, nombre_producto, unidades, cantidad_recibida):\n",
    "        if nombre_producto not in self.__productos:\n",
    "            raise KeyError(f\"El producto {nombre_producto} no se encuentra registrado\")\n",
    "        elif cantidad_recibida < self.__productos[nombre_producto][\"precio\"] * unidades:\n",
    "            raise ValueError(\"El monto otorgado es menor al valor de la compra\")\n",
    "        else:\n",
    "            cambio = (cantidad_recibida - self.__productos[nombre_producto][\"precio\"] * unidades)\n",
    "            self.__monto += self.__productos[nombre_producto][\"precio\"] * unidades\n",
    "            self.__productos[nombre_producto][\"unidades_vendidas\"] += unidades\n",
    "            self.__productos[nombre_producto][\"unidades_disponibles\"] -= unidades\n",
    "            print(f\"su cambio es de {cambio}\")"
   ]
  },
  {
   "cell_type": "markdown",
   "metadata": {},
   "source": [
    "* Menciona tres objetos de python **(+0.1)**\n",
    "    * list, float, dict, str, tuple, ...\n",
    "* ¿Cuál es la diferencia entre un argumento y un parámetro? **(+0.2)**\n",
    "    * Un parámetro se define dentro de la función y no toma ningún valor real al momento de su definición (un _comodín_); un argumento es valor que toma la función al ser evaluada. \n",
    "* ¿Por qué es necesario convertir el resultado de `map` a un `list` para ver su resultado? **(+0.2)**\n",
    "    * La función `map` regresa un generador de valores (python se prepara para generar los valores, mas no los genera). Para generar los valores usamos `list` "
   ]
  }
 ],
 "metadata": {
  "kernelspec": {
   "display_name": "Python 3",
   "language": "python",
   "name": "python3"
  },
  "language_info": {
   "codemirror_mode": {
    "name": "ipython",
    "version": 3
   },
   "file_extension": ".py",
   "mimetype": "text/x-python",
   "name": "python",
   "nbconvert_exporter": "python",
   "pygments_lexer": "ipython3",
   "version": "3.6.6"
  }
 },
 "nbformat": 4,
 "nbformat_minor": 2
}
